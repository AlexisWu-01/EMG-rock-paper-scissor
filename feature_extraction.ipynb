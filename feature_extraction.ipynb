{
 "cells": [
  {
   "cell_type": "code",
   "execution_count": 4,
   "metadata": {},
   "outputs": [],
   "source": [
    "import numpy as np\n",
    "import pandas as pd\n",
    "from scipy import signal\n",
    "from scipy.signal import butter, filtfilt, freqz, welch\n"
   ]
  },
  {
   "cell_type": "code",
   "execution_count": 2,
   "metadata": {},
   "outputs": [],
   "source": [
    "all_data = np.load('processed_data/all_data.npy')"
   ]
  },
  {
   "cell_type": "code",
   "execution_count": null,
   "metadata": {},
   "outputs": [],
   "source": [
    "def highpassFilter(data, sr, threshold):\n",
    "    b,a = butter(2, threshold/(sr/2),'high')\n",
    "    return filtfilt(b,a,data)"
   ]
  },
  {
   "cell_type": "code",
   "execution_count": 3,
   "metadata": {},
   "outputs": [
    {
     "data": {
      "text/plain": [
       "(270, 1380, 5)"
      ]
     },
     "execution_count": 3,
     "metadata": {},
     "output_type": "execute_result"
    }
   ],
   "source": [
    "def lowpassFilter(data, sr, threshold):\n",
    "    b,a = butter(2, threshold/(sr/2),'low')\n",
    "    return filtfilt(b,a,data)"
   ]
  },
  {
   "cell_type": "code",
   "execution_count": null,
   "metadata": {},
   "outputs": [],
   "source": [
    "def WL(data):\n",
    "    wl = np.sum(np.abs(np.diff(data)))\n",
    "    return wl / len(data)"
   ]
  },
  {
   "cell_type": "code",
   "execution_count": null,
   "metadata": {},
   "outputs": [],
   "source": [
    "def MAV(data):\n",
    "    return np.sum(np.abs(data))/len(data)"
   ]
  },
  {
   "cell_type": "code",
   "execution_count": null,
   "metadata": {},
   "outputs": [],
   "source": [
    "def SSC(data,threshold):\n",
    "    res = 0\n",
    "    for i in range(1, len(data)-1):\n",
    "        curr = (data[i]-data[i-1]) * (data[i+1]-data[i])\n",
    "        if curr >= threshold:\n",
    "            res += 1\n",
    "    return res"
   ]
  },
  {
   "cell_type": "code",
   "execution_count": null,
   "metadata": {},
   "outputs": [],
   "source": [
    "def ZC(data):\n",
    "    \"\"\"\n",
    "    Counts how many times the signal crosses zero. \n",
    "    \"\"\"\n",
    "    res = 0\n",
    "    for i in range(1, len(data)):\n",
    "        curr = data[i] * data[i-1]\n",
    "        if curr < 0:\n",
    "            res += 1\n",
    "    return res"
   ]
  },
  {
   "cell_type": "code",
   "execution_count": null,
   "metadata": {},
   "outputs": [],
   "source": [
    "def VAR(data):\n",
    "    \"\"\"\n",
    "    Measures the spread of signal values around the mean. It reflects the level of muscle activation.\n",
    "    \"\"\"\n",
    "    return np.var(data)"
   ]
  },
  {
   "cell_type": "code",
   "execution_count": null,
   "metadata": {},
   "outputs": [],
   "source": [
    "def RMS(data):\n",
    "    \"\"\"\n",
    "    Measures the amplitude of the signal.\n",
    "    \"\"\"\n",
    "    return np.sqrt(np.mean(data**2))"
   ]
  },
  {
   "cell_type": "code",
   "execution_count": null,
   "metadata": {},
   "outputs": [],
   "source": [
    "def PSD(data,sr):\n",
    "    f, pxx = welch(data, sr, nperseg=1024) "
   ]
  }
 ],
 "metadata": {
  "kernelspec": {
   "display_name": "NeuroTech",
   "language": "python",
   "name": "neurotech"
  },
  "language_info": {
   "codemirror_mode": {
    "name": "ipython",
    "version": 3
   },
   "file_extension": ".py",
   "mimetype": "text/x-python",
   "name": "python",
   "nbconvert_exporter": "python",
   "pygments_lexer": "ipython3",
   "version": "3.10.12"
  }
 },
 "nbformat": 4,
 "nbformat_minor": 2
}
