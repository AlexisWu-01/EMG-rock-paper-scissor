{
 "cells": [
  {
   "cell_type": "code",
   "execution_count": 6,
   "metadata": {},
   "outputs": [],
   "source": [
    "import torch\n",
    "import torch.nn as nn\n",
    "import numpy as np\n",
    "import torch.optim as optim\n",
    "from torch.utils.data import TensorDataset, DataLoader\n",
    "import pandas as pd\n",
    "from sklearn.preprocessing import StandardScaler, MinMaxScaler\n",
    "import torch.optim.lr_scheduler as lr_scheduler\n",
    "\n",
    "from sklearn.model_selection import train_test_split\n",
    "from sklearn.metrics import accuracy_score, f1_score,confusion_matrix\n"
   ]
  },
  {
   "cell_type": "code",
   "execution_count": 2,
   "metadata": {},
   "outputs": [],
   "source": [
    "class EMGClassifier(nn.Module):\n",
    "    def __init__(self, input_size=44, hidden_sizes=[128,64,32], num_classes=3, dropout_rate=0.1):\n",
    "        super(EMGClassifier, self).__init__()\n",
    "        self.layers = nn.Sequential(\n",
    "            nn.Linear(input_size, hidden_sizes[0]),\n",
    "            nn.ReLU(),\n",
    "            nn.BatchNorm1d(hidden_sizes[0]),\n",
    "            nn.Dropout(dropout_rate),\n",
    "            nn.Linear(hidden_sizes[0], hidden_sizes[1]),\n",
    "            nn.ReLU(),\n",
    "            nn.BatchNorm1d(hidden_sizes[1]),\n",
    "            # nn.Dropout(dropout_rate),\n",
    "            nn.Linear(hidden_sizes[1], hidden_sizes[2]),\n",
    "            nn.ReLU(),\n",
    "            nn.BatchNorm1d(hidden_sizes[2]),\n",
    "            nn.Dropout(dropout_rate),\n",
    "            nn.Linear(hidden_sizes[2], num_classes)\n",
    "        )\n",
    "        \n",
    "    def forward(self, x):\n",
    "        return self.layers(x)\n"
   ]
  },
  {
   "cell_type": "code",
   "execution_count": 3,
   "metadata": {},
   "outputs": [],
   "source": [
    "df = pd.read_csv('processed_data/train_features.csv')\n",
    "# feature_set = 'ch'\n",
    "# feature_set = 'ch'\n",
    "X = df.filter(regex=r'^(?!.*bp).*ch.*', axis=1)\n",
    "# X = df.filter(regex=feature_set, axis=1)\n",
    "y = df['label'].to_numpy()-1"
   ]
  },
  {
   "cell_type": "code",
   "execution_count": 4,
   "metadata": {},
   "outputs": [
    {
     "data": {
      "text/plain": [
       "['temp_scaler.pkl']"
      ]
     },
     "execution_count": 4,
     "metadata": {},
     "output_type": "execute_result"
    }
   ],
   "source": [
    "scaler=StandardScaler()\n",
    "X_train = scaler.fit_transform(X)\n",
    "import joblib\n",
    "joblib.dump(scaler, 'temp_scaler.pkl')"
   ]
  },
  {
   "cell_type": "code",
   "execution_count": 7,
   "metadata": {},
   "outputs": [],
   "source": [
    "\n",
    "batch_size = 16\n",
    "X_train_tensor = torch.FloatTensor(X_train)\n",
    "y_train_tensor = torch.LongTensor(y)\n",
    "train_dataset = TensorDataset(X_train_tensor, y_train_tensor)\n",
    "train_loader = DataLoader(dataset=train_dataset, batch_size=batch_size, shuffle=True)"
   ]
  },
  {
   "cell_type": "code",
   "execution_count": 14,
   "metadata": {},
   "outputs": [],
   "source": [
    "\n",
    "model = EMGClassifier()\n",
    "model.load_state_dict(torch.load('models/MLP.pth'))\n",
    "cnt = 0\n",
    "for name, para in model.named_parameters():\n",
    "    if cnt > 6:\n",
    "        break\n",
    "    para.requires_grad = False\n",
    "    cnt += 1\n",
    "num_epochs = 100\n",
    "lr = 0.001\n",
    "input_size = X_train.shape[1]  # Number of features\n",
    "num_classes = len(set(y))  # Number of classes\n",
    "criterion = nn.CrossEntropyLoss()\n",
    "optimizer = optim.Adam(filter(lambda p: p.requires_grad, model.parameters()), lr=lr)\n",
    "scheduler = lr_scheduler.StepLR(optimizer, step_size=30, gamma=0.1)"
   ]
  },
  {
   "cell_type": "code",
   "execution_count": 15,
   "metadata": {},
   "outputs": [
    {
     "name": "stdout",
     "output_type": "stream",
     "text": [
      "Epoch [1/100], Step [20/21], Loss: 2.2516\n",
      "Epoch [2/100], Step [20/21], Loss: 2.8813\n",
      "Epoch [3/100], Step [20/21], Loss: 1.9984\n",
      "Epoch [4/100], Step [20/21], Loss: 1.9483\n",
      "Epoch [5/100], Step [20/21], Loss: 1.5227\n",
      "Epoch [6/100], Step [20/21], Loss: 1.5945\n",
      "Epoch [7/100], Step [20/21], Loss: 1.1429\n",
      "Epoch [8/100], Step [20/21], Loss: 1.1364\n",
      "Epoch [9/100], Step [20/21], Loss: 1.2387\n",
      "Epoch [10/100], Step [20/21], Loss: 1.0078\n",
      "Epoch [11/100], Step [20/21], Loss: 0.9946\n",
      "Epoch [12/100], Step [20/21], Loss: 0.9161\n",
      "Epoch [13/100], Step [20/21], Loss: 1.1509\n",
      "Epoch [14/100], Step [20/21], Loss: 1.0066\n",
      "Epoch [15/100], Step [20/21], Loss: 0.8836\n",
      "Epoch [16/100], Step [20/21], Loss: 1.2056\n",
      "Epoch [17/100], Step [20/21], Loss: 1.0337\n",
      "Epoch [18/100], Step [20/21], Loss: 0.8138\n",
      "Epoch [19/100], Step [20/21], Loss: 0.9216\n",
      "Epoch [20/100], Step [20/21], Loss: 1.1216\n",
      "Epoch [21/100], Step [20/21], Loss: 0.8500\n",
      "Epoch [22/100], Step [20/21], Loss: 1.1476\n",
      "Epoch [23/100], Step [20/21], Loss: 1.1372\n",
      "Epoch [24/100], Step [20/21], Loss: 1.4945\n",
      "Epoch [25/100], Step [20/21], Loss: 0.9560\n",
      "Epoch [26/100], Step [20/21], Loss: 0.8063\n",
      "Epoch [27/100], Step [20/21], Loss: 0.6638\n",
      "Epoch [28/100], Step [20/21], Loss: 0.8522\n",
      "Epoch [29/100], Step [20/21], Loss: 0.8207\n",
      "Epoch [30/100], Step [20/21], Loss: 1.1041\n",
      "Epoch [31/100], Step [20/21], Loss: 0.6921\n",
      "Epoch [32/100], Step [20/21], Loss: 0.8423\n",
      "Epoch [33/100], Step [20/21], Loss: 0.8676\n",
      "Epoch [34/100], Step [20/21], Loss: 1.0445\n",
      "Epoch [35/100], Step [20/21], Loss: 1.0647\n",
      "Epoch [36/100], Step [20/21], Loss: 0.9895\n",
      "Epoch [37/100], Step [20/21], Loss: 0.9825\n",
      "Epoch [38/100], Step [20/21], Loss: 1.1815\n",
      "Epoch [39/100], Step [20/21], Loss: 1.0336\n",
      "Epoch [40/100], Step [20/21], Loss: 1.0272\n",
      "Epoch [41/100], Step [20/21], Loss: 1.0857\n",
      "Epoch [42/100], Step [20/21], Loss: 0.8484\n",
      "Epoch [43/100], Step [20/21], Loss: 0.9260\n",
      "Epoch [44/100], Step [20/21], Loss: 0.8881\n",
      "Epoch [45/100], Step [20/21], Loss: 1.0437\n",
      "Epoch [46/100], Step [20/21], Loss: 0.7309\n",
      "Epoch [47/100], Step [20/21], Loss: 1.0493\n",
      "Epoch [48/100], Step [20/21], Loss: 0.9516\n",
      "Epoch [49/100], Step [20/21], Loss: 1.1799\n",
      "Epoch [50/100], Step [20/21], Loss: 0.7406\n",
      "Epoch [51/100], Step [20/21], Loss: 1.1671\n",
      "Epoch [52/100], Step [20/21], Loss: 1.2724\n",
      "Epoch [53/100], Step [20/21], Loss: 1.0160\n",
      "Epoch [54/100], Step [20/21], Loss: 1.0331\n",
      "Epoch [55/100], Step [20/21], Loss: 0.7519\n",
      "Epoch [56/100], Step [20/21], Loss: 0.8878\n",
      "Epoch [57/100], Step [20/21], Loss: 1.0238\n",
      "Epoch [58/100], Step [20/21], Loss: 0.9100\n",
      "Epoch [59/100], Step [20/21], Loss: 0.9090\n",
      "Epoch [60/100], Step [20/21], Loss: 1.1548\n",
      "Epoch [61/100], Step [20/21], Loss: 0.8574\n",
      "Epoch [62/100], Step [20/21], Loss: 0.7650\n",
      "Epoch [63/100], Step [20/21], Loss: 0.9479\n",
      "Epoch [64/100], Step [20/21], Loss: 0.7801\n",
      "Epoch [65/100], Step [20/21], Loss: 0.8133\n",
      "Epoch [66/100], Step [20/21], Loss: 0.7956\n",
      "Epoch [67/100], Step [20/21], Loss: 1.0169\n",
      "Epoch [68/100], Step [20/21], Loss: 0.9275\n",
      "Epoch [69/100], Step [20/21], Loss: 1.1017\n",
      "Epoch [70/100], Step [20/21], Loss: 0.8677\n",
      "Epoch [71/100], Step [20/21], Loss: 0.9393\n",
      "Epoch [72/100], Step [20/21], Loss: 0.8362\n",
      "Epoch [73/100], Step [20/21], Loss: 0.9373\n",
      "Epoch [74/100], Step [20/21], Loss: 1.3130\n",
      "Epoch [75/100], Step [20/21], Loss: 0.8959\n",
      "Epoch [76/100], Step [20/21], Loss: 1.1991\n",
      "Epoch [77/100], Step [20/21], Loss: 0.8310\n",
      "Epoch [78/100], Step [20/21], Loss: 1.0451\n",
      "Epoch [79/100], Step [20/21], Loss: 0.8734\n",
      "Epoch [80/100], Step [20/21], Loss: 0.9203\n",
      "Epoch [81/100], Step [20/21], Loss: 1.0010\n",
      "Epoch [82/100], Step [20/21], Loss: 1.0459\n",
      "Epoch [83/100], Step [20/21], Loss: 0.8091\n",
      "Epoch [84/100], Step [20/21], Loss: 0.9713\n",
      "Epoch [85/100], Step [20/21], Loss: 1.0496\n",
      "Epoch [86/100], Step [20/21], Loss: 1.0983\n",
      "Epoch [87/100], Step [20/21], Loss: 0.8990\n",
      "Epoch [88/100], Step [20/21], Loss: 0.8555\n",
      "Epoch [89/100], Step [20/21], Loss: 0.9122\n",
      "Epoch [90/100], Step [20/21], Loss: 1.0767\n",
      "Epoch [91/100], Step [20/21], Loss: 0.9996\n",
      "Epoch [92/100], Step [20/21], Loss: 0.9147\n",
      "Epoch [93/100], Step [20/21], Loss: 0.9080\n",
      "Epoch [94/100], Step [20/21], Loss: 1.1362\n",
      "Epoch [95/100], Step [20/21], Loss: 0.8815\n",
      "Epoch [96/100], Step [20/21], Loss: 0.8617\n",
      "Epoch [97/100], Step [20/21], Loss: 0.9757\n",
      "Epoch [98/100], Step [20/21], Loss: 0.9442\n",
      "Epoch [99/100], Step [20/21], Loss: 1.0323\n",
      "Epoch [100/100], Step [20/21], Loss: 0.8934\n"
     ]
    }
   ],
   "source": [
    "# Train the model\n",
    "losses = []\n",
    "for epoch in range(num_epochs):\n",
    "    epoch_loss = 0\n",
    "    # Forward pass: Compute predicted y by passing x to the model\n",
    "    for i, (inputs, labels) in enumerate(train_loader):\n",
    "        # Forward pass\n",
    "        outputs = model(inputs)\n",
    "        loss = criterion(outputs, labels)\n",
    "        \n",
    "        # Backward and optimize\n",
    "        optimizer.zero_grad()\n",
    "        loss.backward()\n",
    "        optimizer.step()\n",
    "        epoch_loss += loss.item()\n",
    "        \n",
    "        if (i+1) % (len(train_dataset) // batch_size) == 0:\n",
    "            print(f'Epoch [{epoch+1}/{num_epochs}], Step [{i+1}/{len(train_loader)}], Loss: {loss.item():.4f}')\n",
    "    scheduler.step()\n",
    "    losses.append(epoch_loss)\n"
   ]
  },
  {
   "cell_type": "code",
   "execution_count": 10,
   "metadata": {},
   "outputs": [
    {
     "data": {
      "text/plain": [
       "[<matplotlib.lines.Line2D at 0x15fc10e80>]"
      ]
     },
     "execution_count": 10,
     "metadata": {},
     "output_type": "execute_result"
    },
    {
     "data": {
      "image/png": "[encoded data removed]",
      "text/plain": [
       "<Figure size 640x480 with 1 Axes>"
      ]
     },
     "metadata": {},
     "output_type": "display_data"
    }
   ],
   "source": [
    "import matplotlib.pyplot as plt\n",
    "plt.plot(losses)"
   ]
  },
  {
   "cell_type": "code",
   "execution_count": 11,
   "metadata": {},
   "outputs": [],
   "source": [
    "df_test = pd.read_csv('processed_data/test_features.csv')\n",
    "X_test = df_test.filter(regex=r'^(?!.*bp).*ch.*', axis=1)\n",
    "y_test = df_test['label'].to_numpy()-1\n",
    "X_test = scaler.transform(X_test)"
   ]
  },
  {
   "cell_type": "code",
   "execution_count": 12,
   "metadata": {},
   "outputs": [],
   "source": [
    "X_test_tensor = torch.FloatTensor(X_test)\n",
    "y_test_tensor = torch.LongTensor(y_test)\n",
    "test_dataset = TensorDataset(X_test_tensor, y_test_tensor)\n",
    "test_loader = DataLoader(dataset=test_dataset, batch_size=batch_size, shuffle=True)"
   ]
  },
  {
   "cell_type": "code",
   "execution_count": 13,
   "metadata": {},
   "outputs": [
    {
     "name": "stdout",
     "output_type": "stream",
     "text": [
      "Accuracy of the model on the test set: 41.666666666666664 %\n",
      "f1 score: [0.44827586 0.34615385 0.44827586]\n",
      "confusion matrix:\n",
      " [[13 10  8]\n",
      " [ 7  9  5]\n",
      " [ 7 12 13]]\n"
     ]
    }
   ],
   "source": [
    "\n",
    "model.eval()  # Set the model to evaluation mode\n",
    "preds = []\n",
    "actual = []\n",
    "with torch.no_grad():\n",
    "    correct = 0\n",
    "    total = 0\n",
    "    outputs = model(X_test_tensor)\n",
    "    _, predicted = torch.max(outputs.data, 1)\n",
    "    preds.append(predicted)\n",
    "    actual.append(y_test_tensor)\n",
    "    total += y_test_tensor.size(0)\n",
    "    correct += (predicted == y_test_tensor).sum().item()\n",
    "    \n",
    "\n",
    "print('Accuracy of the model on the test set: {} %'.format(100 * correct / total))\n",
    "f1 = f1_score(y_test_tensor, predicted, average=None)\n",
    "cm = confusion_matrix(y_test_tensor, predicted,labels=[0,1,2])\n",
    "print(f\"f1 score: {f1}\")\n",
    "print(f\"confusion matrix:\\n {cm}\")"
   ]
  },
  {
   "cell_type": "code",
   "execution_count": null,
   "metadata": {},
   "outputs": [],
   "source": [
    "# torch.save(model.state_dict(), 'models/MLP_tuned.pth')"
   ]
  },
  {
   "cell_type": "code",
   "execution_count": null,
   "metadata": {},
   "outputs": [],
   "source": []
  }
 ],
 "metadata": {
  "kernelspec": {
   "display_name": "neurotech",
   "language": "python",
   "name": "neurotech"
  },
  "language_info": {
   "codemirror_mode": {
    "name": "ipython",
    "version": 3
   },
   "file_extension": ".py",
   "mimetype": "text/x-python",
   "name": "python",
   "nbconvert_exporter": "python",
   "pygments_lexer": "ipython3",
   "version": "3.10.11"
  }
 },
 "nbformat": 4,
 "nbformat_minor": 2
}
