{
 "cells": [
  {
   "cell_type": "code",
   "execution_count": 1,
   "id": "4907c6ac-3b83-4bc4-9d28-471c7e7a2aa6",
   "metadata": {},
   "outputs": [],
   "source": [
    "import torch\n",
    "import numpy as np\n",
    "from scipy.io import loadmat\n",
    "import pandas as pd\n",
    "import matplotlib.pyplot as plt\n",
    "from scipy import signal\n"
   ]
  },
  {
   "cell_type": "code",
   "execution_count": 2,
   "id": "76956ddb-e1d5-4d60-8e3d-e5f20dd60799",
   "metadata": {},
   "outputs": [],
   "source": [
    "from torch.utils.data import TensorDataset, DataLoader"
   ]
  },
  {
   "cell_type": "code",
   "execution_count": 89,
   "id": "78b86eba-8687-4969-863a-da3e5c4a4459",
   "metadata": {},
   "outputs": [],
   "source": [
    "all_data = np.load('processed_data/tune_onset_data.npy', allow_pickle=True)\n",
    "labels = np.load('processed_data/tune_labels.npy', allow_pickle=True)\n",
    "labels = [i-1 for i in labels]\n",
    "sr = 1000"
   ]
  },
  {
   "cell_type": "code",
   "execution_count": 90,
   "metadata": {},
   "outputs": [
    {
     "data": {
      "text/plain": [
       "2218"
      ]
     },
     "execution_count": 90,
     "metadata": {},
     "output_type": "execute_result"
    }
   ],
   "source": [
    "len(labels)"
   ]
  },
  {
   "cell_type": "code",
   "execution_count": 91,
   "id": "5d399975-3c02-4352-b363-1bf5437f1907",
   "metadata": {},
   "outputs": [],
   "source": [
    "images = []\n",
    "for i in range(len(labels)):\n",
    "    time_domain_data = all_data[i,:,:,]\n",
    "    spectrograms = []\n",
    "    for j in range(4):\n",
    "        f, t, Sxx = signal.spectrogram(time_domain_data[j], fs= sr)\n",
    "        spectrograms.append(Sxx)\n",
    "    image = np.stack(spectrograms, axis=-1)\n",
    "    # normalized_image = (image - np.min(image)) / (np.max(image) - np.min(image))  # Corrected line\n",
    "    images.append(image)\n",
    "images = np.array(images)"
   ]
  },
  {
   "cell_type": "code",
   "execution_count": 92,
   "id": "e6e413bb",
   "metadata": {},
   "outputs": [],
   "source": [
    "train_size = int(0.8 * len(labels))\n",
    "test_size = len(labels) - train_size"
   ]
  },
  {
   "cell_type": "code",
   "execution_count": 96,
   "metadata": {},
   "outputs": [
    {
     "data": {
      "text/plain": [
       "1774"
      ]
     },
     "execution_count": 96,
     "metadata": {},
     "output_type": "execute_result"
    }
   ],
   "source": [
    "len(train_set)"
   ]
  },
  {
   "cell_type": "code",
   "execution_count": 94,
   "id": "40281f6c-dc50-4eef-b1fb-678de799df1f",
   "metadata": {},
   "outputs": [
    {
     "name": "stdout",
     "output_type": "stream",
     "text": [
      "56 14\n"
     ]
    }
   ],
   "source": [
    "images_torch = torch.tensor(images.transpose(0,3,1,2), dtype=torch.float32)\n",
    "dataset = TensorDataset(images_torch, torch.tensor(labels,dtype=torch.long))\n",
    "train_set, test_set = torch.utils.data.random_split(dataset, [train_size, test_size])\n",
    "train_loader = DataLoader(train_set, batch_size=32, shuffle=True)\n",
    "test_loader = DataLoader(test_set, batch_size=32, shuffle=False)\n",
    "print(len(train_loader), len(test_loader))"
   ]
  },
  {
   "cell_type": "code",
   "execution_count": 72,
   "id": "e6156e37",
   "metadata": {},
   "outputs": [],
   "source": [
    "mean = 0.\n",
    "std = 0.\n",
    "for images, _ in train_loader:\n",
    "    batch_samples = images.size(0)  # Batch size (the last batch can have smaller size!)\n",
    "    images = images.view(batch_samples, images.size(1), -1)\n",
    "    mean += images.mean(2).sum(0)\n",
    "    std += images.std(2).sum(0)\n",
    "\n",
    "mean /= len(train_loader.dataset)\n",
    "std /= len(train_loader.dataset)"
   ]
  },
  {
   "cell_type": "code",
   "execution_count": 8,
   "id": "ead3cd52",
   "metadata": {},
   "outputs": [],
   "source": [
    "from torchvision import transforms\n",
    "\n",
    "# Define the transform\n",
    "normalize = transforms.Normalize(mean=mean, std=std)"
   ]
  },
  {
   "cell_type": "code",
   "execution_count": 11,
   "id": "4c2c2a32",
   "metadata": {},
   "outputs": [],
   "source": [
    "class NormalizedDataset(TensorDataset):\n",
    "    def __init__(self, *tensors, transform=None):\n",
    "        super().__init__(*tensors)\n",
    "        self.transform = transform\n",
    "\n",
    "    def __getitem__(self, index):\n",
    "        image, label = super().__getitem__(index)\n",
    "        if self.transform:\n",
    "            image = self.transform(image)\n",
    "        return image, label\n",
    "\n",
    "# Apply the transform to your training and test datasets\n",
    "normalized_train_set = NormalizedDataset(*train_set.dataset.tensors, transform=normalize)\n",
    "normalized_test_set = NormalizedDataset(*test_set.dataset.tensors, transform=normalize)\n",
    "\n",
    "# Create data loaders for the normalized datasets\n",
    "train_loader = DataLoader(normalized_train_set, batch_size=32, shuffle=True)\n",
    "test_loader = DataLoader(normalized_test_set, batch_size=32, shuffle=False)"
   ]
  },
  {
   "cell_type": "code",
   "execution_count": 12,
   "id": "c3eab721-4700-4ed9-b63d-06954632fe8c",
   "metadata": {},
   "outputs": [],
   "source": [
    "import torch.nn as nn\n",
    "import torch.optim as optim\n"
   ]
  },
  {
   "cell_type": "code",
   "execution_count": 37,
   "id": "63cc6bb8-fa63-468a-b263-62041fcab379",
   "metadata": {},
   "outputs": [],
   "source": [
    "device = torch.device('cuda:0' if torch.cuda.is_available() else 'cpu')\n",
    "device = torch.device('cpu')"
   ]
  },
  {
   "cell_type": "code",
   "execution_count": 97,
   "id": "93884841-3927-4b17-9a49-2eaae91b5840",
   "metadata": {},
   "outputs": [],
   "source": [
    "class MultiChannelCNN(nn.Module):\n",
    "    def __init__(self):\n",
    "        super(MultiChannelCNN, self).__init__()\n",
    "        self.conv1 = nn.Conv2d(in_channels=4, out_channels=32, kernel_size=(20,2), padding=1)\n",
    "        self.relu1 = nn.ReLU()\n",
    "        self.pool1 = nn.MaxPool2d(kernel_size=(10,2), stride=2)\n",
    "\n",
    "        self.conv2 = nn.Conv2d(in_channels=32, out_channels= 64, kernel_size=(20,2), padding=1)\n",
    "        self.relu2 = nn.ReLU()\n",
    "        self.pool2 = nn.MaxPool2d(kernel_size=(10,2), stride=2)\n",
    "\n",
    "        self.fc1 = nn.Linear(in_features=64*13, out_features=500)\n",
    "        self.relu3 = nn.ReLU()\n",
    "\n",
    "        self.fc2 = nn.Linear(in_features=500, out_features = 3)\n",
    "\n",
    "    def forward(self,x):\n",
    "        x = self.conv1(x)\n",
    "        x = self.relu1(x)\n",
    "        x = self.pool1(x)\n",
    "        x = self.conv2(x)\n",
    "        x = self.relu2(x)\n",
    "        x = self.pool2(x)\n",
    "        x = torch.flatten(x, 1)\n",
    "        x = self.fc1(x)\n",
    "        x = self.relu3(x)\n",
    "        # pass the output to our softmax classifier to get our output\n",
    "        # predictions\n",
    "        x = self.fc2(x)\n",
    "        # return the output predictions\n",
    "        return x"
   ]
  },
  {
   "cell_type": "code",
   "execution_count": 98,
   "id": "3a566b45-9ef5-4716-a7f3-df039a498f5a",
   "metadata": {},
   "outputs": [],
   "source": [
    "model = MultiChannelCNN().to(device)\n",
    "optimizer = torch.optim.Adam(model.parameters(), lr = 1e-3, weight_decay=1e-5)\n",
    "scheduler = torch.optim.lr_scheduler.StepLR(optimizer, step_size=20, gamma=0.1)\n",
    "lossFn =nn.CrossEntropyLoss()\n"
   ]
  },
  {
   "cell_type": "code",
   "execution_count": 99,
   "id": "b898e7eb-9e2a-4b8d-aa51-bec96983e9d9",
   "metadata": {},
   "outputs": [
    {
     "name": "stdout",
     "output_type": "stream",
     "text": [
      "Epoch 1, Loss: 12512647.42754909\n",
      "Validation loss decreased (inf --> 279815.922161).  Saving model ...\n",
      "Epoch 2, Loss: 86296.03870555332\n",
      "Validation loss decreased (279815.922161 --> 47206.935041).  Saving model ...\n",
      "Epoch 3, Loss: 21830.669463293892\n",
      "Validation loss decreased (47206.935041 --> 35312.046173).  Saving model ...\n",
      "Epoch 4, Loss: 10600.85703326123\n",
      "Validation loss decreased (35312.046173 --> 8401.876445).  Saving model ...\n",
      "Epoch 5, Loss: 3574.0147110585654\n",
      "Validation loss decreased (8401.876445 --> 7582.303240).  Saving model ...\n",
      "Epoch 6, Loss: 3726.040252800499\n",
      "Validation loss decreased (7582.303240 --> 6397.425736).  Saving model ...\n",
      "Epoch 7, Loss: 905.3399719202092\n",
      "Validation loss decreased (6397.425736 --> 4478.702383).  Saving model ...\n",
      "Epoch 8, Loss: 572.9148831314275\n",
      "Epoch 9, Loss: 408.3026396376746\n",
      "Epoch 10, Loss: 305.23606200516224\n",
      "Validation loss decreased (4478.702383 --> 4226.340611).  Saving model ...\n",
      "Epoch 11, Loss: 136.3677708346929\n",
      "Validation loss decreased (4226.340611 --> 3877.456777).  Saving model ...\n",
      "Epoch 12, Loss: 107.58220122115952\n",
      "Validation loss decreased (3877.456777 --> 3624.797879).  Saving model ...\n",
      "Epoch 13, Loss: 86.90661800439868\n",
      "Epoch 14, Loss: 56.11890308878252\n",
      "Validation loss decreased (3624.797879 --> 3597.099651).  Saving model ...\n",
      "Epoch 15, Loss: 59.81992454826832\n",
      "Epoch 16, Loss: 79.06614272509303\n",
      "Epoch 17, Loss: 70.44437881346259\n",
      "Epoch 18, Loss: 56.97351153833525\n",
      "Epoch 19, Loss: 48.74268390238285\n",
      "Validation loss decreased (3597.099651 --> 3452.092420).  Saving model ...\n",
      "Epoch 20, Loss: 29.019105729247844\n",
      "Validation loss decreased (3452.092420 --> 3251.192787).  Saving model ...\n",
      "Epoch 21, Loss: 24.92486291910921\n",
      "Epoch 22, Loss: 20.3687980185662\n",
      "Validation loss decreased (3251.192787 --> 3244.379420).  Saving model ...\n",
      "Epoch 23, Loss: 19.019407884350844\n",
      "Validation loss decreased (3244.379420 --> 3236.016235).  Saving model ...\n",
      "Epoch 24, Loss: 17.84641390932458\n",
      "Validation loss decreased (3236.016235 --> 3220.510690).  Saving model ...\n",
      "Epoch 25, Loss: 16.681056862430914\n",
      "Validation loss decreased (3220.510690 --> 3210.049440).  Saving model ...\n",
      "Epoch 26, Loss: 15.416880213788577\n",
      "Validation loss decreased (3210.049440 --> 3195.913792).  Saving model ...\n",
      "Epoch 27, Loss: 14.42608633105244\n",
      "Validation loss decreased (3195.913792 --> 3184.687662).  Saving model ...\n",
      "Epoch 28, Loss: 13.537531750542778\n",
      "Validation loss decreased (3184.687662 --> 3176.634733).  Saving model ...\n",
      "Epoch 29, Loss: 12.81530013680458\n",
      "Epoch 30, Loss: 12.321417151817254\n",
      "Validation loss decreased (3176.634733 --> 3172.457085).  Saving model ...\n",
      "Epoch 31, Loss: 11.57408231496811\n",
      "Validation loss decreased (3172.457085 --> 3162.082183).  Saving model ...\n",
      "Epoch 32, Loss: 10.94051832812173\n",
      "Validation loss decreased (3162.082183 --> 3155.745023).  Saving model ...\n",
      "Epoch 33, Loss: 10.617453558104378\n",
      "Validation loss decreased (3155.745023 --> 3137.016590).  Saving model ...\n",
      "Epoch 34, Loss: 9.898137006376471\n",
      "Validation loss decreased (3137.016590 --> 3118.069530).  Saving model ...\n",
      "Epoch 35, Loss: 9.132456685815539\n",
      "Validation loss decreased (3118.069530 --> 3112.193645).  Saving model ...\n",
      "Epoch 36, Loss: 8.702490701207093\n",
      "Validation loss decreased (3112.193645 --> 3096.192713).  Saving model ...\n",
      "Epoch 37, Loss: 8.831808738410473\n",
      "Validation loss decreased (3096.192713 --> 3078.510514).  Saving model ...\n",
      "Epoch 38, Loss: 8.513370553297657\n",
      "Validation loss decreased (3078.510514 --> 3069.608149).  Saving model ...\n",
      "Epoch 39, Loss: 8.06391258005585\n",
      "Validation loss decreased (3069.608149 --> 3065.912551).  Saving model ...\n",
      "Epoch 40, Loss: 7.482258261314461\n",
      "Validation loss decreased (3065.912551 --> 3049.858957).  Saving model ...\n",
      "Epoch 41, Loss: 7.4947352547730715\n",
      "Validation loss decreased (3049.858957 --> 3049.711134).  Saving model ...\n",
      "Epoch 42, Loss: 7.1422213305320055\n",
      "Validation loss decreased (3049.711134 --> 3048.634413).  Saving model ...\n",
      "Epoch 43, Loss: 7.0939120064888685\n",
      "Validation loss decreased (3048.634413 --> 3047.673369).  Saving model ...\n",
      "Epoch 44, Loss: 7.057741015085152\n",
      "Validation loss decreased (3047.673369 --> 3046.645568).  Saving model ...\n",
      "Epoch 45, Loss: 7.174024601067815\n",
      "Validation loss decreased (3046.645568 --> 3045.669443).  Saving model ...\n",
      "Epoch 46, Loss: 6.9795599813972204\n",
      "Validation loss decreased (3045.669443 --> 3044.109971).  Saving model ...\n",
      "Epoch 47, Loss: 7.114207781851292\n",
      "Epoch 48, Loss: 7.543851487338543\n",
      "Epoch 49, Loss: 7.271177423851831\n",
      "Epoch 50, Loss: 6.991071778748717\n",
      "Epoch 51, Loss: 6.887739315629005\n",
      "Epoch 52, Loss: 6.840702328298773\n",
      "Epoch 53, Loss: 6.813446206705911\n",
      "Epoch 54, Loss: 6.806038185954094\n",
      "Epoch 55, Loss: 6.774011385227952\n",
      "Epoch 56, Loss: 7.1065936631390025\n",
      "Validation loss stopped decreasing for 10 epochs.  Stopping training ...\n"
     ]
    }
   ],
   "source": [
    "early_stopping_patience = 10  # Number of epochs to wait for improvement before stopping\n",
    "min_val_loss = float('inf')  # Initialize to infinity; will store the best model's loss\n",
    "early_stopping_counter = 0  # Counter to keep track of how many epochs without improvement\n",
    "num_epochs = 150\n",
    "losses = []\n",
    "val_losses = []\n",
    "for epoch in range(num_epochs):  # loop over the dataset multiple times\n",
    "    running_loss = 0.0\n",
    "    for i, data in enumerate(train_loader, 0):\n",
    "        inputs, labels = data\n",
    "        labels = labels.to(device)\n",
    "        inputs = inputs.to(device)\n",
    "        optimizer.zero_grad()\n",
    "        outputs = model(inputs).to(device)\n",
    "        # _, preds = torch.max(outputs,1)\n",
    "        loss = lossFn(outputs, labels)\n",
    "        loss.backward()\n",
    "        optimizer.step()\n",
    "        running_loss += loss.item()\n",
    "    scheduler.step()\n",
    "    print(f\"Epoch {epoch+1}, Loss: {running_loss / len(train_loader)}\")\n",
    "    model.eval()\n",
    "    val_loss = 0\n",
    "    val_corrects = 0\n",
    "    total = 0\n",
    "    with torch.no_grad():\n",
    "        for inputs, labels in test_loader:\n",
    "            inputs = inputs.to(device)\n",
    "            labels = labels.to(device)\n",
    "            outputs = model(inputs)\n",
    "            _, preds = torch.max(outputs, 1)\n",
    "            loss = lossFn(outputs, labels)\n",
    "            val_loss += loss.item()\n",
    "            val_corrects += torch.sum(preds == labels.data)\n",
    "            total += labels.size(0)\n",
    "        epoch_val_loss = val_loss / len(test_loader)\n",
    "        epoch_val_acc = val_corrects.double() / total\n",
    "    \n",
    "    if epoch_val_loss < min_val_loss:\n",
    "        print(f\"Validation loss decreased ({min_val_loss:.6f} --> {epoch_val_loss:.6f}).  Saving model ...\")\n",
    "        min_val_loss = epoch_val_loss\n",
    "        early_stopping_counter = 0\n",
    "    else:\n",
    "        early_stopping_counter += 1\n",
    "        if early_stopping_counter >= early_stopping_patience:\n",
    "            print(f\"Validation loss stopped decreasing for {early_stopping_patience} epochs.  Stopping training ...\")\n",
    "            break\n",
    "    losses.append(running_loss / len(train_loader))\n",
    "    val_losses.append(epoch_val_loss)\n",
    "\n"
   ]
  },
  {
   "cell_type": "code",
   "execution_count": 101,
   "metadata": {},
   "outputs": [
    {
     "data": {
      "image/png": "[encoded data removed]",
      "text/plain": [
       "<Figure size 640x480 with 1 Axes>"
      ]
     },
     "metadata": {},
     "output_type": "display_data"
    }
   ],
   "source": [
    "import matplotlib.pyplot as plt\n",
    "plt.plot(losses, label='Training loss')\n",
    "plt.plot(val_losses, label='Validation loss')\n",
    "plt.legend()\n",
    "plt.show()"
   ]
  },
  {
   "cell_type": "markdown",
   "id": "d7e7c154-c0e0-4fc6-bf89-c6aa31d5dadc",
   "metadata": {},
   "source": [
    "# Test"
   ]
  },
  {
   "cell_type": "code",
   "execution_count": 102,
   "id": "8d4dfa1b-9a95-4ab3-a202-25f04ed4ad6f",
   "metadata": {},
   "outputs": [],
   "source": [
    "model.eval()\n",
    "preds = []\n",
    "actual = []\n",
    "with torch.no_grad():\n",
    "    for inputs, labels in test_loader:\n",
    "        inputs = inputs.to(device)\n",
    "        labels = labels.to(device)\n",
    "        outputs = model(inputs)\n",
    "        _, pred = torch.max(outputs, 1)\n",
    "        preds.extend(pred.tolist())\n",
    "        actual.extend(labels.tolist())"
   ]
  },
  {
   "cell_type": "code",
   "execution_count": 103,
   "id": "9c6efa89-fb34-4ad5-b1ba-c103c353c3fb",
   "metadata": {},
   "outputs": [
    {
     "name": "stdout",
     "output_type": "stream",
     "text": [
      "Accuracy: 32.43%\n",
      "[[  6   4 140]\n",
      " [  6   7 140]\n",
      " [  4   6 131]]\n"
     ]
    }
   ],
   "source": [
    "from sklearn.metrics import accuracy_score, classification_report,confusion_matrix\n",
    "\n",
    "# Convert to numpy arrays for use with sklearn\n",
    "all_labels = actual\n",
    "all_preds = preds\n",
    "\n",
    "# Calculate accuracy\n",
    "accuracy = accuracy_score(all_labels, all_preds)\n",
    "print(f'Accuracy: {accuracy * 100:.2f}%')\n",
    "\n",
    "cm = confusion_matrix(all_labels, all_preds)\n",
    "print(cm)\n"
   ]
  },
  {
   "cell_type": "code",
   "execution_count": 82,
   "id": "9ef46249-8e4a-4071-a950-66705fdd4197",
   "metadata": {},
   "outputs": [],
   "source": [
    "df = pd.DataFrame(np.stack([all_labels, all_preds]))"
   ]
  },
  {
   "cell_type": "code",
   "execution_count": 22,
   "id": "73d369d0-3585-4921-92e2-b17f21b8c17a",
   "metadata": {},
   "outputs": [
    {
     "data": {
      "text/html": [
       "<div>\n",
       "<style scoped>\n",
       "    .dataframe tbody tr th:only-of-type {\n",
       "        vertical-align: middle;\n",
       "    }\n",
       "\n",
       "    .dataframe tbody tr th {\n",
       "        vertical-align: top;\n",
       "    }\n",
       "\n",
       "    .dataframe thead th {\n",
       "        text-align: right;\n",
       "    }\n",
       "</style>\n",
       "<table border=\"1\" class=\"dataframe\">\n",
       "  <thead>\n",
       "    <tr style=\"text-align: right;\">\n",
       "      <th></th>\n",
       "      <th>0</th>\n",
       "      <th>1</th>\n",
       "      <th>2</th>\n",
       "      <th>3</th>\n",
       "      <th>4</th>\n",
       "      <th>5</th>\n",
       "      <th>6</th>\n",
       "      <th>7</th>\n",
       "      <th>8</th>\n",
       "      <th>9</th>\n",
       "      <th>...</th>\n",
       "      <th>230</th>\n",
       "      <th>231</th>\n",
       "      <th>232</th>\n",
       "      <th>233</th>\n",
       "      <th>234</th>\n",
       "      <th>235</th>\n",
       "      <th>236</th>\n",
       "      <th>237</th>\n",
       "      <th>238</th>\n",
       "      <th>239</th>\n",
       "    </tr>\n",
       "  </thead>\n",
       "  <tbody>\n",
       "    <tr>\n",
       "      <th>0</th>\n",
       "      <td>0</td>\n",
       "      <td>0</td>\n",
       "      <td>0</td>\n",
       "      <td>2</td>\n",
       "      <td>2</td>\n",
       "      <td>0</td>\n",
       "      <td>2</td>\n",
       "      <td>1</td>\n",
       "      <td>1</td>\n",
       "      <td>2</td>\n",
       "      <td>...</td>\n",
       "      <td>0</td>\n",
       "      <td>2</td>\n",
       "      <td>2</td>\n",
       "      <td>1</td>\n",
       "      <td>2</td>\n",
       "      <td>1</td>\n",
       "      <td>0</td>\n",
       "      <td>2</td>\n",
       "      <td>1</td>\n",
       "      <td>0</td>\n",
       "    </tr>\n",
       "    <tr>\n",
       "      <th>1</th>\n",
       "      <td>2</td>\n",
       "      <td>2</td>\n",
       "      <td>2</td>\n",
       "      <td>2</td>\n",
       "      <td>2</td>\n",
       "      <td>2</td>\n",
       "      <td>2</td>\n",
       "      <td>2</td>\n",
       "      <td>2</td>\n",
       "      <td>2</td>\n",
       "      <td>...</td>\n",
       "      <td>2</td>\n",
       "      <td>2</td>\n",
       "      <td>2</td>\n",
       "      <td>2</td>\n",
       "      <td>2</td>\n",
       "      <td>2</td>\n",
       "      <td>2</td>\n",
       "      <td>2</td>\n",
       "      <td>2</td>\n",
       "      <td>2</td>\n",
       "    </tr>\n",
       "  </tbody>\n",
       "</table>\n",
       "<p>2 rows × 240 columns</p>\n",
       "</div>"
      ],
      "text/plain": [
       "   0    1    2    3    4    5    6    7    8    9    ...  230  231  232  233  \\\n",
       "0    0    0    0    2    2    0    2    1    1    2  ...    0    2    2    1   \n",
       "1    2    2    2    2    2    2    2    2    2    2  ...    2    2    2    2   \n",
       "\n",
       "   234  235  236  237  238  239  \n",
       "0    2    1    0    2    1    0  \n",
       "1    2    2    2    2    2    2  \n",
       "\n",
       "[2 rows x 240 columns]"
      ]
     },
     "execution_count": 22,
     "metadata": {},
     "output_type": "execute_result"
    }
   ],
   "source": [
    "df"
   ]
  },
  {
   "cell_type": "code",
   "execution_count": 23,
   "id": "e8697658",
   "metadata": {},
   "outputs": [
    {
     "data": {
      "text/plain": [
       "array([2])"
      ]
     },
     "execution_count": 23,
     "metadata": {},
     "output_type": "execute_result"
    }
   ],
   "source": [
    "np.unique(all_preds)"
   ]
  },
  {
   "cell_type": "code",
   "execution_count": null,
   "id": "9a7e822c",
   "metadata": {},
   "outputs": [],
   "source": []
  }
 ],
 "metadata": {
  "kernelspec": {
   "display_name": "neurotech",
   "language": "python",
   "name": "neurotech"
  },
  "language_info": {
   "codemirror_mode": {
    "name": "ipython",
    "version": 3
   },
   "file_extension": ".py",
   "mimetype": "text/x-python",
   "name": "python",
   "nbconvert_exporter": "python",
   "pygments_lexer": "ipython3",
   "version": "3.10.11"
  }
 },
 "nbformat": 4,
 "nbformat_minor": 5
}
