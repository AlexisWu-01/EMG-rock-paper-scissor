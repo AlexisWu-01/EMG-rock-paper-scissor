{
 "cells": [
  {
   "cell_type": "code",
   "execution_count": 1,
   "metadata": {},
   "outputs": [],
   "source": [
    "import torch\n",
    "import torch.nn as nn\n",
    "import torch.optim as optim\n",
    "from torch.utils.data import TensorDataset, DataLoader\n",
    "import pandas as pd\n",
    "from sklearn.preprocessing import StandardScaler, MinMaxScaler\n",
    "import torch.optim.lr_scheduler as lr_scheduler\n",
    "\n",
    "from sklearn.model_selection import train_test_split\n",
    "from sklearn.metrics import accuracy_score, f1_score,confusion_matrix\n"
   ]
  },
  {
   "cell_type": "code",
   "execution_count": 2,
   "metadata": {},
   "outputs": [],
   "source": [
    "class EMGClassifier(nn.Module):\n",
    "    def __init__(self, input_size, hidden_sizes, num_classes, dropout_rate=0.2):\n",
    "        super(EMGClassifier, self).__init__()\n",
    "        self.layers = nn.Sequential(\n",
    "            nn.Linear(input_size, hidden_sizes[0]),\n",
    "            nn.ReLU(),\n",
    "            nn.BatchNorm1d(hidden_sizes[0]),\n",
    "            nn.Dropout(dropout_rate),\n",
    "            nn.Linear(hidden_sizes[0], hidden_sizes[1]),\n",
    "            nn.ReLU(),\n",
    "            nn.BatchNorm1d(hidden_sizes[1]),\n",
    "            # nn.Dropout(dropout_rate),\n",
    "            nn.Linear(hidden_sizes[1], hidden_sizes[2]),\n",
    "            nn.ReLU(),\n",
    "            nn.BatchNorm1d(hidden_sizes[2]),\n",
    "            nn.Dropout(dropout_rate),\n",
    "            nn.Linear(hidden_sizes[2], num_classes)\n",
    "        )\n",
    "        \n",
    "    def forward(self, x):\n",
    "        return self.layers(x)\n"
   ]
  },
  {
   "cell_type": "code",
   "execution_count": 3,
   "metadata": {},
   "outputs": [],
   "source": [
    "df = pd.read_csv('processed_data/onset_feature_train.csv')\n",
    "feature_set = 'ch'\n",
    "# feature_set = 'ch'\n",
    "X = df.filter(regex=feature_set, axis=1)\n",
    "y_train = df['label'].to_numpy()"
   ]
  },
  {
   "cell_type": "code",
   "execution_count": 4,
   "metadata": {},
   "outputs": [],
   "source": [
    "test_df = pd.read_csv('processed_data/onset_feature_test.csv')\n",
    "Xtest = test_df.filter(regex=feature_set, axis=1).to_numpy()\n",
    "y_test = test_df['label'].to_numpy()"
   ]
  },
  {
   "cell_type": "code",
   "execution_count": 5,
   "metadata": {},
   "outputs": [
    {
     "name": "stderr",
     "output_type": "stream",
     "text": [
      "/home/alexiswu/2023Fall/NeuroTech/neurotech/lib/python3.10/site-packages/sklearn/base.py:465: UserWarning: X does not have valid feature names, but StandardScaler was fitted with feature names\n",
      "  warnings.warn(\n"
     ]
    }
   ],
   "source": [
    "scaler = StandardScaler()\n",
    "X_train = scaler.fit_transform(X)\n",
    "X_test = scaler.transform(Xtest)"
   ]
  },
  {
   "cell_type": "code",
   "execution_count": 6,
   "metadata": {},
   "outputs": [],
   "source": [
    "hidden_sizes = [128,64,32]\n",
    "batch_size = 64\n",
    "num_epochs = 150\n",
    "lr = 0.01\n",
    "input_size = X_train.shape[1]  # Number of features\n",
    "num_classes = len(set(y_train))  # Number of classes\n",
    "model = EMGClassifier(input_size, hidden_sizes, num_classes)\n",
    "criterion = nn.CrossEntropyLoss()\n",
    "optimizer = optim.Adam(model.parameters(), lr=lr)\n",
    "scheduler = lr_scheduler.StepLR(optimizer, step_size=30, gamma=0.1)\n"
   ]
  },
  {
   "cell_type": "code",
   "execution_count": 7,
   "metadata": {},
   "outputs": [],
   "source": [
    "X_train_tensor = torch.FloatTensor(X_train)\n",
    "y_train_tensor = torch.LongTensor(y_train)\n",
    "X_test_tensor = torch.FloatTensor(X_test)\n",
    "y_test_tensor = torch.LongTensor(y_test)\n",
    "train_dataset = TensorDataset(X_train_tensor, y_train_tensor)\n",
    "train_loader = DataLoader(dataset=train_dataset, batch_size=batch_size, shuffle=True)"
   ]
  },
  {
   "cell_type": "code",
   "execution_count": 8,
   "metadata": {},
   "outputs": [
    {
     "name": "stderr",
     "output_type": "stream",
     "text": [
      "/home/alexiswu/2023Fall/NeuroTech/neurotech/lib/python3.10/site-packages/torch/autograd/__init__.py:251: UserWarning: CUDA initialization: CUDA unknown error - this may be due to an incorrectly set up environment, e.g. changing env variable CUDA_VISIBLE_DEVICES after program start. Setting the available devices to be zero. (Triggered internally at ../c10/cuda/CUDAFunctions.cpp:108.)\n",
      "  Variable._execution_engine.run_backward(  # Calls into the C++ engine to run the backward pass\n"
     ]
    },
    {
     "name": "stdout",
     "output_type": "stream",
     "text": [
      "Epoch [1/150], Step [23/24], Loss: 1.1168\n",
      "Epoch [2/150], Step [23/24], Loss: 0.9977\n",
      "Epoch [3/150], Step [23/24], Loss: 0.7572\n",
      "Epoch [4/150], Step [23/24], Loss: 0.8686\n",
      "Epoch [5/150], Step [23/24], Loss: 0.8358\n",
      "Epoch [6/150], Step [23/24], Loss: 0.7078\n",
      "Epoch [7/150], Step [23/24], Loss: 0.6896\n",
      "Epoch [8/150], Step [23/24], Loss: 1.1520\n",
      "Epoch [9/150], Step [23/24], Loss: 0.6127\n",
      "Epoch [10/150], Step [23/24], Loss: 0.6591\n",
      "Epoch [11/150], Step [23/24], Loss: 0.5772\n",
      "Epoch [12/150], Step [23/24], Loss: 0.7375\n",
      "Epoch [13/150], Step [23/24], Loss: 0.5925\n",
      "Epoch [14/150], Step [23/24], Loss: 0.6040\n",
      "Epoch [15/150], Step [23/24], Loss: 0.5271\n",
      "Epoch [16/150], Step [23/24], Loss: 0.4330\n",
      "Epoch [17/150], Step [23/24], Loss: 0.7741\n",
      "Epoch [18/150], Step [23/24], Loss: 0.6453\n",
      "Epoch [19/150], Step [23/24], Loss: 0.4783\n",
      "Epoch [20/150], Step [23/24], Loss: 0.5367\n",
      "Epoch [21/150], Step [23/24], Loss: 0.4503\n",
      "Epoch [22/150], Step [23/24], Loss: 0.4313\n",
      "Epoch [23/150], Step [23/24], Loss: 0.5876\n",
      "Epoch [24/150], Step [23/24], Loss: 0.4892\n",
      "Epoch [25/150], Step [23/24], Loss: 0.5437\n",
      "Epoch [26/150], Step [23/24], Loss: 0.4505\n",
      "Epoch [27/150], Step [23/24], Loss: 0.5097\n",
      "Epoch [28/150], Step [23/24], Loss: 0.5673\n",
      "Epoch [29/150], Step [23/24], Loss: 0.4648\n",
      "Epoch [30/150], Step [23/24], Loss: 0.4480\n",
      "Epoch [31/150], Step [23/24], Loss: 0.3605\n",
      "Epoch [32/150], Step [23/24], Loss: 0.3788\n",
      "Epoch [33/150], Step [23/24], Loss: 0.4860\n",
      "Epoch [34/150], Step [23/24], Loss: 0.4638\n",
      "Epoch [35/150], Step [23/24], Loss: 0.3224\n",
      "Epoch [36/150], Step [23/24], Loss: 0.4854\n",
      "Epoch [37/150], Step [23/24], Loss: 0.3587\n",
      "Epoch [38/150], Step [23/24], Loss: 0.4366\n",
      "Epoch [39/150], Step [23/24], Loss: 0.4279\n",
      "Epoch [40/150], Step [23/24], Loss: 0.2931\n",
      "Epoch [41/150], Step [23/24], Loss: 0.4300\n",
      "Epoch [42/150], Step [23/24], Loss: 0.4441\n",
      "Epoch [43/150], Step [23/24], Loss: 0.3243\n",
      "Epoch [44/150], Step [23/24], Loss: 0.2205\n",
      "Epoch [45/150], Step [23/24], Loss: 0.3310\n",
      "Epoch [46/150], Step [23/24], Loss: 0.2894\n",
      "Epoch [47/150], Step [23/24], Loss: 0.2596\n",
      "Epoch [48/150], Step [23/24], Loss: 0.2229\n",
      "Epoch [49/150], Step [23/24], Loss: 0.1965\n",
      "Epoch [50/150], Step [23/24], Loss: 0.3071\n",
      "Epoch [51/150], Step [23/24], Loss: 0.3694\n",
      "Epoch [52/150], Step [23/24], Loss: 0.4151\n",
      "Epoch [53/150], Step [23/24], Loss: 0.2532\n",
      "Epoch [54/150], Step [23/24], Loss: 0.3493\n",
      "Epoch [55/150], Step [23/24], Loss: 0.3267\n",
      "Epoch [56/150], Step [23/24], Loss: 0.3432\n",
      "Epoch [57/150], Step [23/24], Loss: 0.2574\n",
      "Epoch [58/150], Step [23/24], Loss: 0.3744\n",
      "Epoch [59/150], Step [23/24], Loss: 0.1344\n",
      "Epoch [60/150], Step [23/24], Loss: 0.2751\n",
      "Epoch [61/150], Step [23/24], Loss: 0.2701\n",
      "Epoch [62/150], Step [23/24], Loss: 0.3220\n",
      "Epoch [63/150], Step [23/24], Loss: 0.2831\n",
      "Epoch [64/150], Step [23/24], Loss: 0.2449\n",
      "Epoch [65/150], Step [23/24], Loss: 0.2345\n",
      "Epoch [66/150], Step [23/24], Loss: 0.2331\n",
      "Epoch [67/150], Step [23/24], Loss: 0.4338\n",
      "Epoch [68/150], Step [23/24], Loss: 0.2428\n",
      "Epoch [69/150], Step [23/24], Loss: 0.2198\n",
      "Epoch [70/150], Step [23/24], Loss: 0.2493\n",
      "Epoch [71/150], Step [23/24], Loss: 0.2501\n",
      "Epoch [72/150], Step [23/24], Loss: 0.3498\n",
      "Epoch [73/150], Step [23/24], Loss: 0.2983\n",
      "Epoch [74/150], Step [23/24], Loss: 0.2815\n",
      "Epoch [75/150], Step [23/24], Loss: 0.2540\n",
      "Epoch [76/150], Step [23/24], Loss: 0.1606\n",
      "Epoch [77/150], Step [23/24], Loss: 0.2382\n",
      "Epoch [78/150], Step [23/24], Loss: 0.2838\n",
      "Epoch [79/150], Step [23/24], Loss: 0.2844\n",
      "Epoch [80/150], Step [23/24], Loss: 0.2788\n",
      "Epoch [81/150], Step [23/24], Loss: 0.4682\n",
      "Epoch [82/150], Step [23/24], Loss: 0.2799\n",
      "Epoch [83/150], Step [23/24], Loss: 0.3020\n",
      "Epoch [84/150], Step [23/24], Loss: 0.2053\n",
      "Epoch [85/150], Step [23/24], Loss: 0.1995\n",
      "Epoch [86/150], Step [23/24], Loss: 0.1962\n",
      "Epoch [87/150], Step [23/24], Loss: 0.2642\n",
      "Epoch [88/150], Step [23/24], Loss: 0.2496\n",
      "Epoch [89/150], Step [23/24], Loss: 0.2904\n",
      "Epoch [90/150], Step [23/24], Loss: 0.4528\n",
      "Epoch [91/150], Step [23/24], Loss: 0.2841\n",
      "Epoch [92/150], Step [23/24], Loss: 0.2982\n",
      "Epoch [93/150], Step [23/24], Loss: 0.3508\n",
      "Epoch [94/150], Step [23/24], Loss: 0.1149\n",
      "Epoch [95/150], Step [23/24], Loss: 0.1867\n",
      "Epoch [96/150], Step [23/24], Loss: 0.2552\n",
      "Epoch [97/150], Step [23/24], Loss: 0.2170\n",
      "Epoch [98/150], Step [23/24], Loss: 0.2482\n",
      "Epoch [99/150], Step [23/24], Loss: 0.2811\n",
      "Epoch [100/150], Step [23/24], Loss: 0.1640\n",
      "Epoch [101/150], Step [23/24], Loss: 0.3711\n",
      "Epoch [102/150], Step [23/24], Loss: 0.2065\n",
      "Epoch [103/150], Step [23/24], Loss: 0.2886\n",
      "Epoch [104/150], Step [23/24], Loss: 0.3422\n",
      "Epoch [105/150], Step [23/24], Loss: 0.3680\n",
      "Epoch [106/150], Step [23/24], Loss: 0.2813\n",
      "Epoch [107/150], Step [23/24], Loss: 0.3219\n",
      "Epoch [108/150], Step [23/24], Loss: 0.2706\n",
      "Epoch [109/150], Step [23/24], Loss: 0.2769\n",
      "Epoch [110/150], Step [23/24], Loss: 0.1834\n",
      "Epoch [111/150], Step [23/24], Loss: 0.1817\n",
      "Epoch [112/150], Step [23/24], Loss: 0.2339\n",
      "Epoch [113/150], Step [23/24], Loss: 0.2139\n",
      "Epoch [114/150], Step [23/24], Loss: 0.2454\n",
      "Epoch [115/150], Step [23/24], Loss: 0.2905\n",
      "Epoch [116/150], Step [23/24], Loss: 0.2805\n",
      "Epoch [117/150], Step [23/24], Loss: 0.2188\n",
      "Epoch [118/150], Step [23/24], Loss: 0.3988\n",
      "Epoch [119/150], Step [23/24], Loss: 0.3090\n",
      "Epoch [120/150], Step [23/24], Loss: 0.2674\n",
      "Epoch [121/150], Step [23/24], Loss: 0.2860\n",
      "Epoch [122/150], Step [23/24], Loss: 0.2970\n",
      "Epoch [123/150], Step [23/24], Loss: 0.4276\n",
      "Epoch [124/150], Step [23/24], Loss: 0.2550\n",
      "Epoch [125/150], Step [23/24], Loss: 0.2152\n",
      "Epoch [126/150], Step [23/24], Loss: 0.3150\n",
      "Epoch [127/150], Step [23/24], Loss: 0.2376\n",
      "Epoch [128/150], Step [23/24], Loss: 0.2382\n",
      "Epoch [129/150], Step [23/24], Loss: 0.1696\n",
      "Epoch [130/150], Step [23/24], Loss: 0.2706\n",
      "Epoch [131/150], Step [23/24], Loss: 0.3478\n",
      "Epoch [132/150], Step [23/24], Loss: 0.2589\n",
      "Epoch [133/150], Step [23/24], Loss: 0.3369\n",
      "Epoch [134/150], Step [23/24], Loss: 0.2126\n",
      "Epoch [135/150], Step [23/24], Loss: 0.2624\n",
      "Epoch [136/150], Step [23/24], Loss: 0.1703\n",
      "Epoch [137/150], Step [23/24], Loss: 0.2178\n",
      "Epoch [138/150], Step [23/24], Loss: 0.2763\n",
      "Epoch [139/150], Step [23/24], Loss: 0.2887\n",
      "Epoch [140/150], Step [23/24], Loss: 0.2217\n",
      "Epoch [141/150], Step [23/24], Loss: 0.1555\n",
      "Epoch [142/150], Step [23/24], Loss: 0.2721\n",
      "Epoch [143/150], Step [23/24], Loss: 0.4155\n",
      "Epoch [144/150], Step [23/24], Loss: 0.2626\n",
      "Epoch [145/150], Step [23/24], Loss: 0.1032\n",
      "Epoch [146/150], Step [23/24], Loss: 0.2110\n",
      "Epoch [147/150], Step [23/24], Loss: 0.3182\n",
      "Epoch [148/150], Step [23/24], Loss: 0.2681\n",
      "Epoch [149/150], Step [23/24], Loss: 0.2405\n",
      "Epoch [150/150], Step [23/24], Loss: 0.2462\n"
     ]
    }
   ],
   "source": [
    "# Train the model\n",
    "losses = []\n",
    "for epoch in range(num_epochs):\n",
    "    epoch_loss = 0\n",
    "    # Forward pass: Compute predicted y by passing x to the model\n",
    "    for i, (inputs, labels) in enumerate(train_loader):\n",
    "            # Forward pass\n",
    "        outputs = model(inputs)\n",
    "        loss = criterion(outputs, labels)\n",
    "        \n",
    "        # Backward and optimize\n",
    "        optimizer.zero_grad()\n",
    "        loss.backward()\n",
    "        optimizer.step()\n",
    "        epoch_loss += loss.item()\n",
    "        \n",
    "        if (i+1) % (len(train_dataset) // batch_size) == 0:\n",
    "            print(f'Epoch [{epoch+1}/{num_epochs}], Step [{i+1}/{len(train_loader)}], Loss: {loss.item():.4f}')\n",
    "    scheduler.step()\n",
    "    losses.append(epoch_loss)\n"
   ]
  },
  {
   "cell_type": "code",
   "execution_count": 9,
   "metadata": {},
   "outputs": [
    {
     "data": {
      "text/plain": [
       "[<matplotlib.lines.Line2D at 0x7f1fd26d0df0>]"
      ]
     },
     "execution_count": 9,
     "metadata": {},
     "output_type": "execute_result"
    },
    {
     "data": {
      "image/png": "[encoded data removed]",
      "text/plain": [
       "<Figure size 640x480 with 1 Axes>"
      ]
     },
     "metadata": {},
     "output_type": "display_data"
    }
   ],
   "source": [
    "import matplotlib.pyplot as plt\n",
    "plt.plot(losses)"
   ]
  },
  {
   "cell_type": "code",
   "execution_count": 10,
   "metadata": {},
   "outputs": [
    {
     "name": "stdout",
     "output_type": "stream",
     "text": [
      "Accuracy of the model on the test set: 80.4177545691906 %\n",
      "f1 score: [0.8        0.83265306 0.7816092 ]\n",
      "confusion matrix:\n",
      " [[104   9  17]\n",
      " [  9 102  14]\n",
      " [ 17   9 102]]\n"
     ]
    }
   ],
   "source": [
    "\n",
    "# Evaluate the model\n",
    "model.eval()  # Set the model to evaluation mode\n",
    "preds = []\n",
    "actual = []\n",
    "with torch.no_grad():\n",
    "    correct = 0\n",
    "    total = 0\n",
    "    outputs = model(X_test_tensor)\n",
    "    _, predicted = torch.max(outputs.data, 1)\n",
    "    preds.append(predicted)\n",
    "    actual.append(y_test_tensor)\n",
    "    total += y_test_tensor.size(0)\n",
    "    correct += (predicted == y_test_tensor).sum().item()\n",
    "    \n",
    "\n",
    "print('Accuracy of the model on the test set: {} %'.format(100 * correct / total))\n",
    "f1 = f1_score(y_test_tensor, predicted, average=None)\n",
    "cm = confusion_matrix(y_test_tensor, predicted,labels=[0,1,2])\n",
    "print(f\"f1 score: {f1}\")\n",
    "print(f\"confusion matrix:\\n {cm}\")"
   ]
  },
  {
   "cell_type": "code",
   "execution_count": 12,
   "metadata": {},
   "outputs": [],
   "source": [
    "torch.save(model.state_dict(), 'models/MLP.pth')"
   ]
  },
  {
   "cell_type": "code",
   "execution_count": 13,
   "metadata": {},
   "outputs": [
    {
     "data": {
      "text/plain": [
       "['models/scaler.pkl']"
      ]
     },
     "execution_count": 13,
     "metadata": {},
     "output_type": "execute_result"
    }
   ],
   "source": [
    "import joblib\n",
    "joblib.dump(scaler, 'models/scaler.pkl')"
   ]
  },
  {
   "cell_type": "code",
   "execution_count": null,
   "metadata": {},
   "outputs": [],
   "source": []
  }
 ],
 "metadata": {
  "kernelspec": {
   "display_name": "NeuroTech",
   "language": "python",
   "name": "neurotech"
  },
  "language_info": {
   "codemirror_mode": {
    "name": "ipython",
    "version": 3
   },
   "file_extension": ".py",
   "mimetype": "text/x-python",
   "name": "python",
   "nbconvert_exporter": "python",
   "pygments_lexer": "ipython3",
   "version": "3.10.12"
  }
 },
 "nbformat": 4,
 "nbformat_minor": 2
}
