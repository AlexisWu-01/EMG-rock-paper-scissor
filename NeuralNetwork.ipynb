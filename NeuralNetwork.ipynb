{
 "cells": [
  {
   "cell_type": "code",
   "execution_count": 1,
   "metadata": {},
   "outputs": [],
   "source": [
    "import torch\n",
    "import torch.nn as nn\n",
    "import torch.optim as optim\n",
    "from torch.utils.data import TensorDataset, DataLoader\n",
    "import pandas as pd\n",
    "from sklearn.preprocessing import StandardScaler, MinMaxScaler\n",
    "import torch.optim.lr_scheduler as lr_scheduler\n",
    "\n",
    "from sklearn.model_selection import train_test_split\n",
    "from sklearn.metrics import accuracy_score, f1_score,confusion_matrix\n"
   ]
  },
  {
   "cell_type": "code",
   "execution_count": 79,
   "metadata": {},
   "outputs": [],
   "source": [
    "ranked_features = pd.read_csv('RF_feature_importance.csv',index_col=0)\n",
    "feature_set = ranked_features[:30].index.to_numpy()\n",
    "feature_set = '|'.join(feature_set)"
   ]
  },
  {
   "cell_type": "code",
   "execution_count": 80,
   "metadata": {},
   "outputs": [],
   "source": [
    "df = pd.read_csv('processed_data/train_features.csv')\n",
    "\n",
    "# feature_set = r'^(?!.*rms).*ch.*'\n",
    "# feature_set = 'ch'\n",
    "X = df.filter(regex=feature_set, axis=1)\n",
    "y_train = df['label'].to_numpy()\n",
    "y_train = y_train - 1"
   ]
  },
  {
   "cell_type": "code",
   "execution_count": 81,
   "metadata": {},
   "outputs": [],
   "source": [
    "test_df = pd.read_csv('processed_data/test_features.csv')\n",
    "Xtest = test_df.filter(regex=feature_set, axis=1).to_numpy()\n",
    "y_test = test_df['label'].to_numpy()\n",
    "y_test = y_test - 1"
   ]
  },
  {
   "cell_type": "code",
   "execution_count": 82,
   "metadata": {},
   "outputs": [
    {
     "name": "stderr",
     "output_type": "stream",
     "text": [
      "/Users/alexiswu/Desktop/neurotech/lib/python3.10/site-packages/sklearn/base.py:464: UserWarning: X does not have valid feature names, but StandardScaler was fitted with feature names\n",
      "  warnings.warn(\n"
     ]
    }
   ],
   "source": [
    "scaler = StandardScaler()\n",
    "X_train = scaler.fit_transform(X)\n",
    "X_test = scaler.transform(Xtest)"
   ]
  },
  {
   "cell_type": "code",
   "execution_count": 83,
   "metadata": {},
   "outputs": [],
   "source": [
    "class EMGClassifier(nn.Module):\n",
    "    def __init__(self, input_size, hidden_sizes, num_classes, dropout_rate=0.7):\n",
    "        super(EMGClassifier, self).__init__()\n",
    "        self.layers = nn.Sequential(\n",
    "            nn.Linear(input_size, hidden_sizes[0]),\n",
    "            nn.BatchNorm1d(hidden_sizes[0]),\n",
    "            nn.ReLU(),\n",
    "            nn.Dropout(dropout_rate),\n",
    "\n",
    "            # nn.Linear(hidden_sizes[0], num_classes),\n",
    "            nn.Linear(hidden_sizes[0], hidden_sizes[1]),\n",
    "            nn.BatchNorm1d(hidden_sizes[1]),\n",
    "            nn.ReLU(),\n",
    "            nn.Dropout(dropout_rate),\n",
    "            # nn.Linear(hidden_sizes[1], num_classes)\n",
    "            nn.Linear(hidden_sizes[1], hidden_sizes[2]),\n",
    "            nn.BatchNorm1d(hidden_sizes[2]),\n",
    "            nn.ReLU(),\n",
    "            nn.Dropout(dropout_rate),\n",
    "            nn.Linear(hidden_sizes[2], num_classes)\n",
    "        )\n",
    "        \n",
    "    def forward(self, x):\n",
    "        return self.layers(x)\n"
   ]
  },
  {
   "cell_type": "code",
   "execution_count": 84,
   "metadata": {},
   "outputs": [],
   "source": [
    "hidden_sizes = [256,128,64]\n",
    "batch_size = 32\n",
    "num_epochs = 150\n",
    "lr = 0.01\n",
    "input_size = X_train.shape[1]  # Number of features\n",
    "num_classes = len(set(y_train))  # Number of classes\n",
    "model = EMGClassifier(input_size, hidden_sizes, num_classes)\n",
    "criterion = nn.CrossEntropyLoss()\n",
    "# optimizer = optim.Adam(model.parameters(), lr=lr, weight_decay=1e-3)\n",
    "optimizer = optim.SGD(model.parameters(), lr=lr, momentum=0.9, weight_decay=1e-3)\n",
    "\n",
    "# scheduler = lr_scheduler.StepLR(optimizer, step_size=10, gamma=0.1)\n",
    "scheduler = lr_scheduler.ReduceLROnPlateau(optimizer, mode='min', factor=0.1, patience=6, verbose=True)\n",
    "\n",
    "early_stopping_patience = 20  # Number of epochs to wait for improvement before stopping\n",
    "min_val_loss = float('inf')  # Initialize to infinity; will store the best model's loss\n",
    "early_stopping_counter = 0  # Counter to keep track of how many epochs without improvement\n"
   ]
  },
  {
   "cell_type": "code",
   "execution_count": 85,
   "metadata": {},
   "outputs": [],
   "source": [
    "X_train_tensor = torch.FloatTensor(X_train)\n",
    "y_train_tensor = torch.LongTensor(y_train)\n",
    "X_test_tensor = torch.FloatTensor(X_test)\n",
    "y_test_tensor = torch.LongTensor(y_test)\n",
    "train_dataset = TensorDataset(X_train_tensor, y_train_tensor)\n",
    "train_loader = DataLoader(dataset=train_dataset, batch_size=batch_size, shuffle=True)\n",
    "validation_dataset = TensorDataset(X_test_tensor, y_test_tensor)\n",
    "validation_loader = DataLoader(dataset=validation_dataset, batch_size=batch_size, shuffle=False)"
   ]
  },
  {
   "cell_type": "code",
   "execution_count": 86,
   "metadata": {},
   "outputs": [
    {
     "name": "stdout",
     "output_type": "stream",
     "text": [
      "Validation loss decreased (inf --> 1.086442).  Saving model ...\n",
      "Epoch 1/150, Train Loss: 1.2240, Validation Loss: 1.0864, Validation Accuracy: 0.3039\n",
      "Validation loss decreased (1.086442 --> 1.041310).  Saving model ...\n",
      "Epoch 2/150, Train Loss: 1.0820, Validation Loss: 1.0413, Validation Accuracy: 0.4216\n",
      "Validation loss decreased (1.041310 --> 0.988540).  Saving model ...\n",
      "Epoch 3/150, Train Loss: 1.0337, Validation Loss: 0.9885, Validation Accuracy: 0.5833\n",
      "Validation loss decreased (0.988540 --> 0.924028).  Saving model ...\n",
      "Epoch 4/150, Train Loss: 0.9640, Validation Loss: 0.9240, Validation Accuracy: 0.6127\n",
      "Validation loss decreased (0.924028 --> 0.855884).  Saving model ...\n",
      "Epoch 5/150, Train Loss: 0.8577, Validation Loss: 0.8559, Validation Accuracy: 0.6176\n",
      "Validation loss decreased (0.855884 --> 0.802525).  Saving model ...\n",
      "Epoch 6/150, Train Loss: 0.7906, Validation Loss: 0.8025, Validation Accuracy: 0.6422\n",
      "Validation loss decreased (0.802525 --> 0.773311).  Saving model ...\n",
      "Epoch 7/150, Train Loss: 0.7290, Validation Loss: 0.7733, Validation Accuracy: 0.6471\n",
      "Validation loss decreased (0.773311 --> 0.767417).  Saving model ...\n",
      "Epoch 8/150, Train Loss: 0.7009, Validation Loss: 0.7674, Validation Accuracy: 0.6275\n",
      "Validation loss decreased (0.767417 --> 0.754837).  Saving model ...\n",
      "Epoch 9/150, Train Loss: 0.6794, Validation Loss: 0.7548, Validation Accuracy: 0.6520\n",
      "No improvement in validation loss for 1 epoch(s)...\n",
      "Epoch 10/150, Train Loss: 0.6327, Validation Loss: 0.7649, Validation Accuracy: 0.6127\n",
      "Validation loss decreased (0.754837 --> 0.722563).  Saving model ...\n",
      "Epoch 11/150, Train Loss: 0.6207, Validation Loss: 0.7226, Validation Accuracy: 0.6912\n",
      "Validation loss decreased (0.722563 --> 0.711427).  Saving model ...\n",
      "Epoch 12/150, Train Loss: 0.6073, Validation Loss: 0.7114, Validation Accuracy: 0.6716\n",
      "Validation loss decreased (0.711427 --> 0.706503).  Saving model ...\n",
      "Epoch 13/150, Train Loss: 0.5990, Validation Loss: 0.7065, Validation Accuracy: 0.6814\n",
      "No improvement in validation loss for 1 epoch(s)...\n",
      "Epoch 14/150, Train Loss: 0.5403, Validation Loss: 0.7303, Validation Accuracy: 0.6961\n",
      "Validation loss decreased (0.706503 --> 0.696344).  Saving model ...\n",
      "Epoch 15/150, Train Loss: 0.5212, Validation Loss: 0.6963, Validation Accuracy: 0.7108\n",
      "No improvement in validation loss for 1 epoch(s)...\n",
      "Epoch 16/150, Train Loss: 0.5801, Validation Loss: 0.7122, Validation Accuracy: 0.7402\n",
      "Validation loss decreased (0.696344 --> 0.680644).  Saving model ...\n",
      "Epoch 17/150, Train Loss: 0.5317, Validation Loss: 0.6806, Validation Accuracy: 0.7353\n",
      "No improvement in validation loss for 1 epoch(s)...\n",
      "Epoch 18/150, Train Loss: 0.4552, Validation Loss: 0.7305, Validation Accuracy: 0.7059\n",
      "No improvement in validation loss for 2 epoch(s)...\n",
      "Epoch 19/150, Train Loss: 0.4151, Validation Loss: 0.7944, Validation Accuracy: 0.6912\n",
      "No improvement in validation loss for 3 epoch(s)...\n",
      "Epoch 20/150, Train Loss: 0.3846, Validation Loss: 0.7503, Validation Accuracy: 0.7010\n",
      "No improvement in validation loss for 4 epoch(s)...\n",
      "Epoch 21/150, Train Loss: 0.4012, Validation Loss: 0.8320, Validation Accuracy: 0.6618\n",
      "No improvement in validation loss for 5 epoch(s)...\n",
      "Epoch 22/150, Train Loss: 0.3872, Validation Loss: 0.7996, Validation Accuracy: 0.6912\n",
      "No improvement in validation loss for 6 epoch(s)...\n",
      "Epoch 23/150, Train Loss: 0.3751, Validation Loss: 0.7926, Validation Accuracy: 0.7500\n",
      "No improvement in validation loss for 7 epoch(s)...\n",
      "Epoch 24/150, Train Loss: 0.3377, Validation Loss: 0.8732, Validation Accuracy: 0.6814\n",
      "Epoch 00024: reducing learning rate of group 0 to 1.0000e-03.\n",
      "No improvement in validation loss for 8 epoch(s)...\n",
      "Epoch 25/150, Train Loss: 0.2794, Validation Loss: 0.7564, Validation Accuracy: 0.7353\n",
      "No improvement in validation loss for 9 epoch(s)...\n",
      "Epoch 26/150, Train Loss: 0.2444, Validation Loss: 0.7822, Validation Accuracy: 0.7402\n",
      "No improvement in validation loss for 10 epoch(s)...\n",
      "Epoch 27/150, Train Loss: 0.2295, Validation Loss: 0.7945, Validation Accuracy: 0.7255\n",
      "No improvement in validation loss for 11 epoch(s)...\n",
      "Epoch 28/150, Train Loss: 0.2247, Validation Loss: 0.7989, Validation Accuracy: 0.7304\n",
      "No improvement in validation loss for 12 epoch(s)...\n",
      "Epoch 29/150, Train Loss: 0.2161, Validation Loss: 0.8005, Validation Accuracy: 0.7402\n",
      "No improvement in validation loss for 13 epoch(s)...\n",
      "Epoch 30/150, Train Loss: 0.2136, Validation Loss: 0.8022, Validation Accuracy: 0.7304\n",
      "No improvement in validation loss for 14 epoch(s)...\n",
      "Epoch 31/150, Train Loss: 0.2107, Validation Loss: 0.8151, Validation Accuracy: 0.7353\n",
      "Epoch 00031: reducing learning rate of group 0 to 1.0000e-04.\n",
      "No improvement in validation loss for 15 epoch(s)...\n",
      "Epoch 32/150, Train Loss: 0.2016, Validation Loss: 0.8170, Validation Accuracy: 0.7353\n",
      "No improvement in validation loss for 16 epoch(s)...\n",
      "Epoch 33/150, Train Loss: 0.1989, Validation Loss: 0.8195, Validation Accuracy: 0.7304\n",
      "No improvement in validation loss for 17 epoch(s)...\n",
      "Epoch 34/150, Train Loss: 0.1977, Validation Loss: 0.8184, Validation Accuracy: 0.7353\n",
      "No improvement in validation loss for 18 epoch(s)...\n",
      "Epoch 35/150, Train Loss: 0.1974, Validation Loss: 0.8164, Validation Accuracy: 0.7304\n",
      "No improvement in validation loss for 19 epoch(s)...\n",
      "Epoch 36/150, Train Loss: 0.1984, Validation Loss: 0.8190, Validation Accuracy: 0.7304\n",
      "No improvement in validation loss for 20 epoch(s)...\n",
      "Early stopping triggered.\n"
     ]
    }
   ],
   "source": [
    "# Train the model\n",
    "losses = []\n",
    "val_losses = []\n",
    "\n",
    "for epoch in range(num_epochs):\n",
    "    epoch_loss = 0\n",
    "    # Forward pass: Compute predicted y by passing x to the model\n",
    "    for i, (inputs, labels) in enumerate(train_loader):\n",
    "        # Forward pass\n",
    "        outputs = model(inputs)\n",
    "        loss = criterion(outputs, labels)\n",
    "        # Backward and optimize\n",
    "        optimizer.zero_grad()\n",
    "        loss.backward()\n",
    "        optimizer.step()\n",
    "        epoch_loss += loss.item()\n",
    "    epoch_loss = epoch_loss / len(train_loader)\n",
    "    model.eval()  # Set the model to evaluation mode\n",
    "    val_loss = 0\n",
    "    val_corrects = 0\n",
    "    total = 0\n",
    "    with torch.no_grad():  # Turn off gradients for validation, saves memory and computations\n",
    "        for inputs, labels in validation_loader:\n",
    "            outputs = model(inputs)\n",
    "            loss = criterion(outputs, labels)\n",
    "            val_loss += loss.item()\n",
    "\n",
    "            _, preds = torch.max(outputs, 1)\n",
    "            val_corrects += torch.sum(preds == labels.data)\n",
    "            total += labels.size(0)\n",
    "\n",
    "    epoch_val_loss = val_loss / len(validation_loader)\n",
    "    epoch_val_accuracy = val_corrects.double() / total\n",
    "\n",
    "    if epoch_val_loss < min_val_loss:\n",
    "        print(f\"Validation loss decreased ({min_val_loss:.6f} --> {epoch_val_loss:.6f}).  Saving model ...\")\n",
    "        # Save the model\n",
    "        torch.save(model.state_dict(), 'best_model.pth')\n",
    "        min_val_loss = epoch_val_loss\n",
    "        early_stopping_counter = 0  # Reset counter if there is an improvement\n",
    "    else:\n",
    "        early_stopping_counter += 1\n",
    "        print(f\"No improvement in validation loss for {early_stopping_counter} epoch(s)...\")\n",
    "        if early_stopping_counter >= early_stopping_patience:\n",
    "            print(\"Early stopping triggered.\")\n",
    "            break\n",
    "\n",
    "    print(f'Epoch {epoch+1}/{num_epochs}, Train Loss: {epoch_loss:.4f}, Validation Loss: {epoch_val_loss:.4f}, Validation Accuracy: {epoch_val_accuracy:.4f}')\n",
    "    scheduler.step(epoch_val_loss)\n",
    "    losses.append(epoch_loss)\n",
    "    val_losses.append(epoch_val_loss)\n"
   ]
  },
  {
   "cell_type": "code",
   "execution_count": 87,
   "metadata": {},
   "outputs": [
    {
     "data": {
      "image/png": "[encoded data removed]",
      "text/plain": [
       "<Figure size 640x480 with 1 Axes>"
      ]
     },
     "metadata": {},
     "output_type": "display_data"
    }
   ],
   "source": [
    "import matplotlib.pyplot as plt\n",
    "plt.plot(losses, label='Training loss')\n",
    "plt.plot(val_losses, label='Validation loss')\n",
    "plt.legend()\n",
    "plt.show()"
   ]
  },
  {
   "cell_type": "code",
   "execution_count": 88,
   "metadata": {},
   "outputs": [
    {
     "name": "stdout",
     "output_type": "stream",
     "text": [
      "Accuracy of the model on the test set: 73.03921568627452 %\n",
      "f1 score: [0.72727273 0.75757576 0.70833333]\n",
      "confusion matrix:\n",
      " [[48  8  9]\n",
      " [ 5 50  8]\n",
      " [14 11 51]]\n"
     ]
    }
   ],
   "source": [
    "\n",
    "# Evaluate the model\n",
    "model.eval()  # Set the model to evaluation mode\n",
    "preds = []\n",
    "actual = []\n",
    "with torch.no_grad():\n",
    "    correct = 0\n",
    "    total = 0\n",
    "    outputs = model(X_test_tensor)\n",
    "    _, predicted = torch.max(outputs.data, 1)\n",
    "    preds.append(predicted)\n",
    "    actual.append(y_test_tensor)\n",
    "    total += y_test_tensor.size(0)\n",
    "    correct += (predicted == y_test_tensor).sum().item()\n",
    "    \n",
    "\n",
    "print('Accuracy of the model on the test set: {} %'.format(100 * correct / total))\n",
    "f1 = f1_score(y_test_tensor, predicted, average=None)\n",
    "cm = confusion_matrix(y_test_tensor, predicted,labels=[0,1,2])\n",
    "print(f\"f1 score: {f1}\")\n",
    "print(f\"confusion matrix:\\n {cm}\")"
   ]
  },
  {
   "cell_type": "code",
   "execution_count": 52,
   "metadata": {},
   "outputs": [
    {
     "data": {
      "text/plain": [
       "['models/MLP_scaler.pkl']"
      ]
     },
     "execution_count": 52,
     "metadata": {},
     "output_type": "execute_result"
    }
   ],
   "source": [
    "# torch.save(model.state_dict(), 'models/MLP.pth')\n",
    "# import joblib\n",
    "# joblib.dump(scaler, 'models/MLP_scaler.pkl')"
   ]
  },
  {
   "cell_type": "code",
   "execution_count": 91,
   "metadata": {},
   "outputs": [
    {
     "ename": "TypeError",
     "evalue": "EMGClassifier.__init__() missing 2 required positional arguments: 'hidden_sizes' and 'num_classes'",
     "output_type": "error",
     "traceback": [
      "\u001b[0;31m---------------------------------------------------------------------------\u001b[0m",
      "\u001b[0;31mTypeError\u001b[0m                                 Traceback (most recent call last)",
      "\u001b[1;32m/Users/alexiswu/Desktop/2023Fall/NeuroTech/EMG-rock-paper-scissor/NeuralNetwork.ipynb Cell 13\u001b[0m line \u001b[0;36m1\n\u001b[0;32m----> <a href='vscode-notebook-cell:/Users/alexiswu/Desktop/2023Fall/NeuroTech/EMG-rock-paper-scissor/NeuralNetwork.ipynb#X16sZmlsZQ%3D%3D?line=0'>1</a>\u001b[0m model \u001b[39m=\u001b[39m EMGClassifier(input_size\u001b[39m=\u001b[39;49m\u001b[39m48\u001b[39;49m)\n\u001b[1;32m      <a href='vscode-notebook-cell:/Users/alexiswu/Desktop/2023Fall/NeuroTech/EMG-rock-paper-scissor/NeuralNetwork.ipynb#X16sZmlsZQ%3D%3D?line=1'>2</a>\u001b[0m model\u001b[39m.\u001b[39mload_state_dict(dct)\n",
      "\u001b[0;31mTypeError\u001b[0m: EMGClassifier.__init__() missing 2 required positional arguments: 'hidden_sizes' and 'num_classes'"
     ]
    }
   ],
   "source": [
    "model = EMGClassifier(input_size=48)\n",
    "model.load_state_dict(dct)"
   ]
  },
  {
   "cell_type": "code",
   "execution_count": 94,
   "metadata": {},
   "outputs": [],
   "source": [
    "state_dict = torch.load('models/MLP.pth')"
   ]
  },
  {
   "cell_type": "code",
   "execution_count": 96,
   "metadata": {},
   "outputs": [
    {
     "name": "stdout",
     "output_type": "stream",
     "text": [
      "Layer layers.0.weight has shape: torch.Size([128, 48])\n",
      "Layer layers.0.bias has shape: torch.Size([128])\n",
      "Layer layers.1.weight has shape: torch.Size([128])\n",
      "Layer layers.1.bias has shape: torch.Size([128])\n",
      "Layer layers.1.running_mean has shape: torch.Size([128])\n",
      "Layer layers.1.running_var has shape: torch.Size([128])\n",
      "Layer layers.1.num_batches_tracked has shape: torch.Size([])\n",
      "Layer layers.4.weight has shape: torch.Size([32, 128])\n",
      "Layer layers.4.bias has shape: torch.Size([32])\n",
      "Layer layers.5.weight has shape: torch.Size([32])\n",
      "Layer layers.5.bias has shape: torch.Size([32])\n",
      "Layer layers.5.running_mean has shape: torch.Size([32])\n",
      "Layer layers.5.running_var has shape: torch.Size([32])\n",
      "Layer layers.5.num_batches_tracked has shape: torch.Size([])\n",
      "Layer layers.8.weight has shape: torch.Size([3, 32])\n",
      "Layer layers.8.bias has shape: torch.Size([3])\n"
     ]
    }
   ],
   "source": [
    "# Iterate through the state dictionary and print the shape of each linear layer's weights\n",
    "for name, param in state_dict.items():\n",
    "    print(f\"Layer {name} has shape: {param.shape}\")"
   ]
  }
 ],
 "metadata": {
  "kernelspec": {
   "display_name": "neurotech",
   "language": "python",
   "name": "neurotech"
  },
  "language_info": {
   "codemirror_mode": {
    "name": "ipython",
    "version": 3
   },
   "file_extension": ".py",
   "mimetype": "text/x-python",
   "name": "python",
   "nbconvert_exporter": "python",
   "pygments_lexer": "ipython3",
   "version": "3.10.11"
  }
 },
 "nbformat": 4,
 "nbformat_minor": 2
}
