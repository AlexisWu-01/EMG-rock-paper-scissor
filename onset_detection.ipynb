{
 "cells": [
  {
   "cell_type": "code",
   "execution_count": 8,
   "metadata": {},
   "outputs": [],
   "source": [
    "import numpy as np\n",
    "import matplotlib.pyplot as plt"
   ]
  },
  {
   "cell_type": "markdown",
   "metadata": {},
   "source": [
    "# Load Data\n",
    "Load the cleaned and filtered data"
   ]
  },
  {
   "cell_type": "code",
   "execution_count": 9,
   "metadata": {},
   "outputs": [],
   "source": [
    "all_data = np.load('processed_data/tune_data.npy', allow_pickle=True)[:, 1:, :]\n",
    "labels = np.load('processed_data/tune_labels.npy', allow_pickle=True)\n",
    "labels = [i-1 for i in labels]\n",
    "sr = 1000"
   ]
  },
  {
   "cell_type": "markdown",
   "metadata": {},
   "source": [
    "# Finding Onset\n",
    "We are applying moving average window based onset detection:\n",
    "\n",
    "1. Root Mean Square (RMS) Calculation: The `get_rms`` function computes the RMS value of the signal data over specified frame lengths and steps. RMS is a statistical measure of the magnitude of a varying quantity and is commonly used to determine the loudness of a signal.\n",
    "\n",
    "2. Onset Detection: The `find_onset_index` function determines the onset point by identifying the first instance where the RMS of the signal exceeds a specified threshold. This threshold is a crucial parameter in detecting the precise moment when the onset happens.\n",
    "\n",
    "3. Onset Time Calculation: The `find_onset_time` function integrates RMS computation and onset detection to return the time index at which the onset occurs in the signal.\n",
    "\n",
    "4. Signal Smoothing: The `moving_average` function smooths the RMS values using a moving average, which helps in reducing noise and making the onset detection more accurate.\n",
    "\n",
    "5. Normalization: The `normalize` function scales the RMS values to a normalized range, ensuring consistency in onset detection across different signals.\n",
    "\n",
    "6. Comprehensive Onset Detection: The `get_onset` function combines RMS calculation, smoothing, normalization, and threshold-based onset detection to provide a robust method for determining the onset of a gesture in our sEMG signal.\n",
    "\n",
    "7. Average Onset Calculation: The `average_onset` function computes the average onset time over multiple channels of the signal, enhancing the reliability of the onset detection.\n",
    "\n",
    "8. Data Segment Retrieval: Finally, the `get_onset_data` function retrieves a specific segment of the data (0.6 seconds) starting from the detected onset point, useful for further analysis or processing of the signal starting at its onset."
   ]
  },
  {
   "cell_type": "code",
   "execution_count": 10,
   "metadata": {},
   "outputs": [],
   "source": [
    "def get_rms(data, frame_length, step):\n",
    "    rms = []\n",
    "    for i in range(0, len(data)-frame_length+1, step):\n",
    "        rms.append(np.sqrt(np.mean(data[i:i+frame_length]**2)))\n",
    "    return np.array(rms).squeeze()\n",
    "\n",
    "def find_onset_index(rms):\n",
    "    threshold = 0.4\n",
    "    for i in range(len(rms)):\n",
    "        if rms[i] > threshold:\n",
    "            return i\n",
    "        \n",
    "def find_onset_time(data, threshold, frame_length, step):\n",
    "    rms = get_rms(data, frame_length, step)\n",
    "    index = find_onset_index(rms)\n",
    "    return index * step\n",
    "\n",
    "def moving_average(rms):\n",
    "    w = 1\n",
    "    return np.convolve(rms, np.ones(w), 'valid') / w\n",
    "\n",
    "def normalize(rms):\n",
    "    #min max scaler\n",
    "    return np.array([n/(max(rms)-min(rms)) for n in rms])\n",
    "\n",
    "def get_onset(signal, frame_size, step, threshold=0.4):\n",
    "    rms = get_rms(signal, frame_size, step)\n",
    "    rms = moving_average(rms)\n",
    "    rms = normalize(rms)\n",
    "    index = np.where(rms >threshold)[0][0]\n",
    "    onset = index * step\n",
    "    return onset\n",
    "\n",
    "def average_onset(signal, frame_size, step, threshold=0.5):\n",
    "    onsets = 0\n",
    "    for i in range(4):\n",
    "        onsets += get_onset(signal[i], frame_size, step)\n",
    "    return int(onsets/4)\n",
    "\n",
    "def get_onset_data(data):\n",
    "    onset = average_onset(data, 300, 100)\n",
    "    onset_data = []\n",
    "    if onset > 1400-600:\n",
    "        onset = 800\n",
    "    return data[:, onset:onset+600]\n"
   ]
  },
  {
   "cell_type": "code",
   "execution_count": 11,
   "metadata": {},
   "outputs": [],
   "source": [
    "all_onset_data = []\n",
    "for i in range(len(all_data)):\n",
    "    all_onset_data.append(get_onset_data(all_data[i]))\n",
    "all_onset_data = np.array(all_onset_data)"
   ]
  },
  {
   "cell_type": "code",
   "execution_count": 12,
   "metadata": {},
   "outputs": [],
   "source": [
    "np.save('processed_data/tune_onset_data.npy', all_onset_data)"
   ]
  }
 ],
 "metadata": {
  "kernelspec": {
   "display_name": "neurotech",
   "language": "python",
   "name": "neurotech"
  },
  "language_info": {
   "codemirror_mode": {
    "name": "ipython",
    "version": 3
   },
   "file_extension": ".py",
   "mimetype": "text/x-python",
   "name": "python",
   "nbconvert_exporter": "python",
   "pygments_lexer": "ipython3",
   "version": "3.10.11"
  }
 },
 "nbformat": 4,
 "nbformat_minor": 4
}
