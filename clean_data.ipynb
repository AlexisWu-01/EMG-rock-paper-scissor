{
 "cells": [
  {
   "cell_type": "code",
   "execution_count": null,
   "metadata": {},
   "outputs": [],
   "source": [
    "from scipy.io import loadmat\n",
    "import numpy as np\n",
    "import pandas as pd\n",
    "import matplotlib.pyplot as plt\n",
    "import os\n",
    "from scipy.signal import butter, filtfilt"
   ]
  },
  {
   "cell_type": "code",
   "execution_count": null,
   "metadata": {},
   "outputs": [],
   "source": [
    "def load_data(filename):\n",
    "    \"\"\"\n",
    "    Load data from a .mat file.\n",
    "    Args:\n",
    "        filename: the path of the .mat file\n",
    "    Returns:\n",
    "        data: a numpy array of shape (n_samples, n_channels)\n",
    "        marker_data: a numpy array of shape (n_samples, 4)\n",
    "    Note: \n",
    "        Commented lines are because python and matlab recorded data \n",
    "        have different marker data format.\n",
    "    \"\"\"\n",
    "    data = loadmat(filename)\n",
    "    marker_datas= []\n",
    "    marker_data = data['marker_data']\n",
    "    # for timestamp, label in marker_data:\n",
    "    #     if abs(label-99)< 1e-3:\n",
    "    #         continue\n",
    "    #     marker_datas.extend([timestamp, label])\n",
    "    # marker_datas = np.array(marker_datas)\n",
    "    return data['lsl_data'][:,:-1], marker_data.reshape(-1,4)"
   ]
  },
  {
   "cell_type": "code",
   "execution_count": null,
   "metadata": {},
   "outputs": [],
   "source": [
    "def highpass_filter(data, cutoff, fs):\n",
    "    \"\"\"\n",
    "    Highpass filter the data to remove low frequency noise.\n",
    "    Args:\n",
    "        data: a numpy array of shape (n_samples, n_channels)\n",
    "        cutoff: the cutoff frequency\n",
    "        fs: the sampling frequency\n",
    "    \"\"\"\n",
    "    b, a = butter(2, cutoff / (0.5 * fs), btype='highpass')\n",
    "    return filtfilt(b, a, data)\n",
    "\n",
    "def bandstop_filter(data, lowcut,highcut, fs=1000):\n",
    "    \"\"\"\n",
    "    Bandstop filter the data to remove high frequency noise.\n",
    "    Args:\n",
    "        data: a numpy array of shape (n_samples, n_channels)\n",
    "        lowcut: the lower cutoff frequency\n",
    "        highcut: the higher cutoff frequency\n",
    "        fs: the sampling frequency\n",
    "    \"\"\"\n",
    "    nyq = 0.5 * fs\n",
    "    low = lowcut / nyq\n",
    "    high = highcut / nyq\n",
    "    b, a = butter(2, [low, high], btype='bandstop')\n",
    "    return filtfilt(b, a, data)"
   ]
  },
  {
   "cell_type": "code",
   "execution_count": null,
   "metadata": {},
   "outputs": [],
   "source": [
    "def filter_channels(data, fs):\n",
    "    \"\"\"\n",
    "    Filter the data to remove low frequency noise and certain \n",
    "    frequency bands noise from electrical devices. (60Hz, 120Hz, 180Hz)\n",
    "    Args:\n",
    "        data: a numpy array of shape (n_samples, n_channels)\n",
    "        fs: the sampling frequency\n",
    "    Returns:\n",
    "        ret: signal data after filtering\n",
    "    \"\"\"\n",
    "    ret = []\n",
    "    for d in data.T:\n",
    "        d = highpass_filter(d, 20, fs)\n",
    "        d = bandstop_filter(d, 58,62, fs)\n",
    "        d = bandstop_filter(d, 118,122, fs)\n",
    "        d = bandstop_filter(d, 178,182, fs)\n",
    "        ret.append(d)\n",
    "    \n",
    "    return ret\n"
   ]
  },
  {
   "cell_type": "code",
   "execution_count": null,
   "metadata": {},
   "outputs": [],
   "source": [
    "def filter_data(raw_data, marker_data,fs):\n",
    "    \"\"\"\n",
    "    Remove the data entries where the label is invalid (99), \n",
    "    and chunck the data into 1.4s windows according to the timestamps in marker data.\n",
    "    Then we filter the chuncked data to remove low frequency noise and certain electrical devices noise.\n",
    "    Args:\n",
    "        raw_data: a numpy array of shape (n_samples, n_channels)\n",
    "        marker_data: a numpy array of shape (n_samples, 4)\n",
    "        fs: the sampling frequency\n",
    "    Returns:\n",
    "        cleaned_data(numpy array of shape n_samples, n_channels, 1400): signal data after filtering\n",
    "        labels (list): labels of the data\n",
    "    \"\"\"\n",
    "    cleaned_data = []\n",
    "    labels = []\n",
    "    for start, label, end, isbad in marker_data:\n",
    "        if abs(isbad-99) < 1e-3:\n",
    "            continue\n",
    "        \n",
    "        mask = (raw_data[:, 0] >= start) & (raw_data[:, 0] <= end)\n",
    "        if len(raw_data[mask]) < 1400:\n",
    "            continue\n",
    "        cleaned_data.append([])\n",
    "\n",
    "        filtered_data = raw_data[mask][:1400]\n",
    "        filtered_data = filter_channels(filtered_data, fs)\n",
    "        cleaned_data[-1].extend(filtered_data)\n",
    "        labels.append(label)\n",
    "    return np.array(cleaned_data), labels"
   ]
  },
  {
   "cell_type": "code",
   "execution_count": null,
   "metadata": {},
   "outputs": [],
   "source": [
    "\"\"\"\n",
    "Load all data and labels from raw_data folder.\n",
    "\"\"\"\n",
    "all_data = []\n",
    "all_labels = []\n",
    "for filename in os.listdir('raw_data'):\n",
    "    if filename.endswith('.mat'):\n",
    "        print(filename)\n",
    "        raw_data, marker_data = load_data('raw_data/' + filename)\n",
    "\n",
    "        cleaned_data, labels = filter_data(raw_data, marker_data,1000)\n",
    "        all_data.append(cleaned_data)\n",
    "        all_labels += labels\n",
    "all_labels = np.array(all_labels)\n",
    "all_data = np.concatenate(all_data)"
   ]
  },
  {
   "cell_type": "code",
   "execution_count": null,
   "metadata": {},
   "outputs": [],
   "source": [
    "# all_data_1 = np.load('processed_data/tune_data1.npy')\n",
    "# all_labels_1 = np.load('processed_data/tune_labels1.npy')\n"
   ]
  },
  {
   "cell_type": "code",
   "execution_count": null,
   "metadata": {},
   "outputs": [],
   "source": [
    "# all_data = np.concatenate([all_data_1, all_data])\n",
    "# all_labels = np.concatenate([all_labels_1, all_labels])"
   ]
  },
  {
   "cell_type": "code",
   "execution_count": null,
   "metadata": {},
   "outputs": [],
   "source": [
    "# np.save( 'processed_data/tune_data.npy', all_data)\n",
    "# np.save('processed_data/tune_labels.npy', all_labels)"
   ]
  }
 ],
 "metadata": {
  "kernelspec": {
   "display_name": "neurotech",
   "language": "python",
   "name": "neurotech"
  },
  "language_info": {
   "codemirror_mode": {
    "name": "ipython",
    "version": 3
   },
   "file_extension": ".py",
   "mimetype": "text/x-python",
   "name": "python",
   "nbconvert_exporter": "python",
   "pygments_lexer": "ipython3",
   "version": "3.10.11"
  }
 },
 "nbformat": 4,
 "nbformat_minor": 2
}
