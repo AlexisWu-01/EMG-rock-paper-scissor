{
 "cells": [
  {
   "cell_type": "code",
   "execution_count": 8,
   "metadata": {},
   "outputs": [],
   "source": [
    "from scipy.io import loadmat\n",
    "import numpy as np\n",
    "import pandas as pd\n",
    "import matplotlib.pyplot as plt\n",
    "import os\n",
    "from scipy.signal import butter, filtfilt\n"
   ]
  },
  {
   "cell_type": "code",
   "execution_count": 9,
   "metadata": {},
   "outputs": [],
   "source": [
    "def load_data(filename):\n",
    "    \"\"\"\n",
    "    Load data from a .mat file.\n",
    "    \"\"\"\n",
    "    data = loadmat(filename)\n",
    "    return data['lsl_data'][:,:-1], data['marker_data'].reshape(-1,4)"
   ]
  },
  {
   "cell_type": "code",
   "execution_count": 10,
   "metadata": {},
   "outputs": [],
   "source": [
    "def bandpassFilter(data, sr, lowcut, highcut):\n",
    "    ret = []\n",
    "    nyq = 0.5 * sr\n",
    "    low = lowcut / nyq\n",
    "    high = highcut / nyq\n",
    "    b, a = butter(5, [low, high], btype='band')\n",
    "    for d in data.T:\n",
    "        ret.append(filtfilt(b, a, d))\n",
    "    return ret"
   ]
  },
  {
   "cell_type": "code",
   "execution_count": 11,
   "metadata": {},
   "outputs": [],
   "source": [
    "def filter_data(raw_data, marker_data):\n",
    "    cleaned_data = []\n",
    "    labels = []\n",
    "    for start, label, end, isbad in marker_data:\n",
    "        if abs(isbad-99) < 1e-3:\n",
    "            continue\n",
    "        cleaned_data.append([])\n",
    "        mask = (raw_data[:, 0] >= start) & (raw_data[:, 0] <= end)\n",
    "        filtered_data = raw_data[mask][:1400]\n",
    "        filtered_data = bandpassFilter(filtered_data, 1000, 50, 450)\n",
    "        cleaned_data[-1].extend(filtered_data)\n",
    "        labels.append(label)\n",
    "    return np.array(cleaned_data), labels"
   ]
  },
  {
   "cell_type": "code",
   "execution_count": 12,
   "metadata": {},
   "outputs": [],
   "source": [
    "all_data = []\n",
    "all_labels = []\n",
    "for filename in os.listdir('raw_data'):\n",
    "    if filename.endswith('.mat'):\n",
    "        raw_data, marker_data = load_data('raw_data/' + filename)\n",
    "        cleaned_data, labels = filter_data(raw_data, marker_data)\n",
    "        all_data.append(cleaned_data)\n",
    "        all_labels += labels\n",
    "all_labels = np.array(all_labels)\n",
    "all_data = np.concatenate(all_data)"
   ]
  },
  {
   "cell_type": "code",
   "execution_count": 13,
   "metadata": {},
   "outputs": [],
   "source": [
    "np.save( 'processed_data/all_data.npy', all_data)\n",
    "np.save('processed_data/all_labels.npy', all_labels)"
   ]
  },
  {
   "cell_type": "code",
   "execution_count": 14,
   "metadata": {},
   "outputs": [
    {
     "data": {
      "text/plain": [
       "(240, 5, 1400)"
      ]
     },
     "execution_count": 14,
     "metadata": {},
     "output_type": "execute_result"
    }
   ],
   "source": [
    "all_data.shape"
   ]
  },
  {
   "cell_type": "code",
   "execution_count": null,
   "metadata": {},
   "outputs": [],
   "source": []
  }
 ],
 "metadata": {
  "kernelspec": {
   "display_name": "NeuroTech",
   "language": "python",
   "name": "neurotech"
  },
  "language_info": {
   "codemirror_mode": {
    "name": "ipython",
    "version": 3
   },
   "file_extension": ".py",
   "mimetype": "text/x-python",
   "name": "python",
   "nbconvert_exporter": "python",
   "pygments_lexer": "ipython3",
   "version": "3.10.12"
  }
 },
 "nbformat": 4,
 "nbformat_minor": 2
}
