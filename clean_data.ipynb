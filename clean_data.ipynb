{
 "cells": [
  {
   "cell_type": "code",
   "execution_count": 2,
   "metadata": {},
   "outputs": [],
   "source": [
    "from scipy.io import loadmat\n",
    "import numpy as np\n",
    "import pandas as pd\n",
    "import matplotlib.pyplot as plt\n",
    "import os"
   ]
  },
  {
   "cell_type": "code",
   "execution_count": 133,
   "metadata": {},
   "outputs": [],
   "source": [
    "def load_data(filename):\n",
    "    \"\"\"\n",
    "    Load data from a .mat file.\n",
    "    \"\"\"\n",
    "    data = loadmat(filename)\n",
    "    return data['lsl_data'][:,:-1], data['marker_data'].reshape(-1,4)"
   ]
  },
  {
   "cell_type": "code",
   "execution_count": 155,
   "metadata": {},
   "outputs": [],
   "source": [
    "def filter_data(raw_data, marker_data):\n",
    "    cleaned_data = []\n",
    "    labels = []\n",
    "    for start, label, end, isbad in marker_data:\n",
    "        if abs(isbad-99) < 1e-3:\n",
    "            continue\n",
    "        cleaned_data.append([])\n",
    "        mask = (raw_data[:, 0] >= start) & (raw_data[:, 0] <= end)\n",
    "        cleaned_data[-1].extend(raw_data[mask][:1380])\n",
    "        labels.append(label)\n",
    "    return np.array(cleaned_data), labels"
   ]
  },
  {
   "cell_type": "code",
   "execution_count": 153,
   "metadata": {},
   "outputs": [],
   "source": [
    "raw_data, marker_data = load_data('raw_data/lsl_data_2023-10-27-16-22-14.mat')\n",
    "filter_data, labels = filter_data(raw_data, marker_data)"
   ]
  },
  {
   "cell_type": "code",
   "execution_count": 158,
   "metadata": {},
   "outputs": [],
   "source": [
    "all_data = []\n",
    "all_labels = []\n",
    "for filename in os.listdir('raw_data'):\n",
    "    if filename.endswith('.mat'):\n",
    "        raw_data, marker_data = load_data('raw_data/' + filename)\n",
    "        cleaned_data, labels = filter_data(raw_data, marker_data)\n",
    "        all_data.append(cleaned_data)\n",
    "        all_labels += labels\n",
    "all_labels = np.array(all_labels)\n",
    "all_data = np.concatenate(all_data)"
   ]
  },
  {
   "cell_type": "code",
   "execution_count": 163,
   "metadata": {},
   "outputs": [],
   "source": [
    "np.save( 'processed_data/all_data.npy', all_data)\n",
    "np.save('processed_data/all_labels.npy', all_labels)"
   ]
  }
 ],
 "metadata": {
  "kernelspec": {
   "display_name": "NeuroTech",
   "language": "python",
   "name": "neurotech"
  },
  "language_info": {
   "codemirror_mode": {
    "name": "ipython",
    "version": 3
   },
   "file_extension": ".py",
   "mimetype": "text/x-python",
   "name": "python",
   "nbconvert_exporter": "python",
   "pygments_lexer": "ipython3",
   "version": "3.10.12"
  }
 },
 "nbformat": 4,
 "nbformat_minor": 2
}
